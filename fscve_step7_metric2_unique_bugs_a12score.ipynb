{
 "cells": [
  {
   "cell_type": "code",
   "execution_count": 7,
   "outputs": [],
   "source": [
    "import pandas as pd\n",
    "# calculate tables of edge coverage\n",
    "benchmark = \"nm\"\n",
    "expids = 10  #repeated times\n",
    "benchmarks = {\"cflow\", \"jq\", \"mp42aac\", \"nm\", \"objdump\", \"readelf\", \"libpng\", \"libxml2\", \"openssl\", \"lua\"}\n",
    "fcs = {\"fca\", \"fcb\"}"
   ],
   "metadata": {
    "collapsed": false,
    "pycharm": {
     "name": "#%%\n"
    }
   }
  },
  {
   "cell_type": "code",
   "execution_count": 8,
   "outputs": [],
   "source": [
    "def a12(lst1,lst2,rev=True):\n",
    "    \"how often is x in lst1 more than y in lst2?\"\n",
    "    more = same = 0.0\n",
    "    for x in lst1:\n",
    "        for y in lst2:\n",
    "            if   x==y : same += 1\n",
    "            elif rev     and x > y : more += 1\n",
    "            elif not rev and x < y : more += 1\n",
    "    return (more + 0.5*same)  / (len(lst1)*len(lst2))"
   ],
   "metadata": {
    "collapsed": false,
    "pycharm": {
     "name": "#%%\n"
    }
   }
  },
  {
   "cell_type": "code",
   "execution_count": 9,
   "outputs": [
    {
     "name": "stdout",
     "output_type": "stream",
     "text": [
      "cflow unique bug counts a12 score fca>fcb\n",
      "0.745\n",
      "************************************************************\n",
      "jq unique bug counts a12 score fca>fcb\n",
      "1.0\n",
      "************************************************************\n",
      "libpng unique bug counts a12 score fca>fcb\n",
      "0.605\n",
      "************************************************************\n",
      "libxml2 unique bug counts a12 score fca>fcb\n",
      "0.695\n",
      "************************************************************\n",
      "lua unique bug counts a12 score fca>fcb\n",
      "0.46\n",
      "************************************************************\n",
      "mp42aac unique bug counts a12 score fca>fcb\n",
      "0.41\n",
      "************************************************************\n",
      "nm unique bug counts a12 score fca>fcb\n",
      "0.37\n",
      "************************************************************\n",
      "objdump unique bug counts a12 score fca>fcb\n",
      "0.97\n",
      "************************************************************\n",
      "openssl unique bug counts a12 score fca>fcb\n",
      "0.5\n",
      "************************************************************\n",
      "readelf unique bug counts a12 score fca>fcb\n",
      "0.7\n",
      "************************************************************\n"
     ]
    }
   ],
   "source": [
    "import pandas as pd\n",
    "for bm in sorted(benchmarks):\n",
    "    dffca = pd.read_csv(f\"csv/fscve_crash_analysis_bugcnt_{bm}_fca.csv\")\n",
    "    list_exp = []\n",
    "    for i in range(1,expids+1):\n",
    "        list_exp.append(f\"experiment_id_{i}\")\n",
    "    lista = dffca.loc[0,list_exp].values\n",
    "    dffcb = pd.read_csv(f\"csv/fscve_crash_analysis_bugcnt_{bm}_fcb.csv\")\n",
    "    listb = dffcb.loc[0,list_exp].values\n",
    "    print(f\"{bm} unique bug counts a12 score fca>fcb\")\n",
    "    print(a12(lista,listb,rev=True))\n",
    "    dict_value_benchmark = [f\"{bm}\"]\n",
    "    dict_value_a12 = [f\"{a12(lista,listb,rev=True)}\"]\n",
    "\n",
    "    dictca = {\"benchmark\":dict_value_benchmark, \"a12\":dict_value_a12}\n",
    "    dfres = pd.DataFrame(dictca)\n",
    "    #print(df_unique_crashes)\n",
    "    dfres.to_csv(f\"csv/fscve_step7_metric2_unique_bug_a12score_{bm}.csv\")\n",
    "    print(\"***\"*20)"
   ],
   "metadata": {
    "collapsed": false,
    "pycharm": {
     "name": "#%%\n"
    }
   }
  }
 ],
 "metadata": {
  "kernelspec": {
   "display_name": "Python 3",
   "language": "python",
   "name": "python3"
  },
  "language_info": {
   "codemirror_mode": {
    "name": "ipython",
    "version": 2
   },
   "file_extension": ".py",
   "mimetype": "text/x-python",
   "name": "python",
   "nbconvert_exporter": "python",
   "pygments_lexer": "ipython2",
   "version": "2.7.6"
  }
 },
 "nbformat": 4,
 "nbformat_minor": 0
}