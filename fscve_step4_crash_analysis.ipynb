{
 "cells": [
  {
   "cell_type": "code",
   "execution_count": 6,
   "outputs": [
    {
     "name": "stdout",
     "output_type": "stream",
     "text": [
      "nm---fca-----2\n"
     ]
    }
   ],
   "source": [
    "from fscve_step1_db import AnalysisState,FscveStep1DbHelper\n",
    "dbhelper = FscveStep1DbHelper(\"nm\", \"fca\", 2, False)\n",
    "session = dbhelper.session\n",
    "expid = dbhelper.experiment_id\n",
    "benchmark = dbhelper.benchmark\n",
    "fc = dbhelper.fc\n",
    "# query = session.query(AnalysisState.analysis_id,AnalysisState.discovery_id).first()\n",
    "# print(query)\n",
    "print(f\"{benchmark}---{fc}-----{expid}\")"
   ],
   "metadata": {
    "collapsed": false,
    "pycharm": {
     "name": "#%%\n"
    }
   }
  },
  {
   "cell_type": "code",
   "execution_count": 7,
   "outputs": [],
   "source": [
    "from fscve_step1_db import  TestCase\n",
    "import pandas as pd\n",
    "# calculate the total number of uniq crashes for step7 metric1\n",
    "queryca = session.query(TestCase).filter(TestCase.test_case_type_id == 2).all()\n",
    "dict_value_benchmark = [f\"{benchmark}\"  for result in queryca]\n",
    "dict_value_fc = [f\"{fc}\"  for res in queryca]\n",
    "dict_value_expid = [f\"{expid}\"  for res in queryca]\n",
    "dict_value_testcase_hash = [result.hash  for result in queryca]\n",
    "\n",
    "dictca = {\"benchmark\":dict_value_benchmark, \"fuzzer_combination\":dict_value_fc, \"expid\":dict_value_expid,\"testcase_hash\":dict_value_testcase_hash}\n",
    "df_unique_crashes = pd.DataFrame(dictca)\n",
    "#print(df_unique_crashes)\n",
    "df_unique_crashes.to_csv(f\"csv/fscve_unique_crashes_step7metric1_{benchmark}_{fc}_{expid}.csv\")\n",
    "# print(df_bug_count)"
   ],
   "metadata": {
    "collapsed": false,
    "pycharm": {
     "name": "#%%\n"
    }
   }
  },
  {
   "cell_type": "code",
   "execution_count": 8,
   "outputs": [
    {
     "name": "stdout",
     "output_type": "stream",
     "text": [
      "frames_hash\n",
      "01ec3f4a16368aeebe557b7345d03103     2\n",
      "0212274116b45cb1aefdf592d1ca1149     6\n",
      "055b07113790287cfcf350b7e708ab8c    16\n",
      "056c39427a7ea216411e92b2fef07bb2    17\n",
      "091e2b0acad15effd7329698203f260a     3\n",
      "                                    ..\n",
      "f9efba8b88911b424f0576800170ef2f     9\n",
      "fc70583744155ed14c5a6ddb2d7ef7e1     7\n",
      "fcba9ae68b702f53d654a32a9d1254aa     1\n",
      "fd0d1114f3127c61d8d38a41fbc62eed     8\n",
      "fe6ccbdcd5275066fb3023fbac0625b3     1\n",
      "Name: frames_hash, Length: 133, dtype: int64\n",
      "******************************\n",
      "total number of unique bugs: 133\n",
      "  benchmark fuzzer_combination  experiment_id  bug_count\n",
      "0        nm                fca              2        133\n"
     ]
    }
   ],
   "source": [
    "from fscve_step1_db import  CrashAnalysis\n",
    "import pandas as pd\n",
    "# calculate the total number of uniq real bugs\n",
    "queryca = session.query(CrashAnalysis).all()\n",
    "dict_value_crash_id = [result.crash_id  for result in queryca]\n",
    "dict_value_testcase_hash = [result.test_case_hash  for result in queryca]\n",
    "dict_value_crash_type = [result.crash_type  for result in queryca]\n",
    "dict_value_frames_hash = [result.frames_hash  for result in queryca]\n",
    "dictca = {\"crash_id\":dict_value_crash_id, \"testcase_hash\":dict_value_testcase_hash, \"crash_type\":dict_value_crash_type, \"frames_hash\":dict_value_frames_hash}\n",
    "df_crash_analysis = pd.DataFrame(dictca)\n",
    "# df_crash_analysis.set_index(\"crash_id\")\n",
    "df_crash_group = df_crash_analysis.groupby(by=\"frames_hash\")[\"frames_hash\"].count()  #up by frames_hash\n",
    "print(df_crash_group)\n",
    "print(\"*\"*30)\n",
    "print(\"total number of unique bugs:\", df_crash_group.count())\n",
    "\n",
    "dict_value_benchmark = [benchmark]\n",
    "dict_value_fuzzer_combination = [fc]\n",
    "dict_value_experiment_id = [expid]\n",
    "dict_value_bug_count = [df_crash_group.count()]\n",
    "df_bug_count = pd.DataFrame({\"benchmark\":dict_value_benchmark, \"fuzzer_combination\":dict_value_fuzzer_combination, \"experiment_id\":dict_value_experiment_id, \"bug_count\":dict_value_bug_count})\n",
    "df_bug_count.to_csv(f\"csv/fscve_crash_analysis_bugcnt_{benchmark}_{fc}_{expid}.csv\")\n",
    "print(df_bug_count)\n",
    "\n"
   ],
   "metadata": {
    "collapsed": false,
    "pycharm": {
     "name": "#%%\n"
    }
   }
  },
  {
   "cell_type": "code",
   "execution_count": 9,
   "outputs": [],
   "source": [
    "from fscve_step1_db import Discovery, Fuzzer, TestCase, FuzzerType, TestCaseType\n",
    "\n",
    "# query the time of when which fuzzer uses which testcase to find which real bug\n",
    "querywftcbug =  session.query(Discovery.discovery_id,Discovery.discovery_fuzzer,Fuzzer.fuzzer_name,FuzzerType.description.label(\"fuzzer_type_description\"),Discovery.discovery_time,TestCase.hash.label(\"testcase_hash\"),TestCaseType.description.label(\"testcase_type_description\"),CrashAnalysis.crash_id,CrashAnalysis.crash_type,CrashAnalysis.frames_hash)\n",
    "querywftcbug = querywftcbug.join((Fuzzer,Discovery.discovery_fuzzer==Fuzzer.fuzzer_id),(FuzzerType,Fuzzer.fuzzer_type_id==FuzzerType.id)).join((TestCase,Discovery.test_case_hash == TestCase.hash),(TestCaseType,TestCase.test_case_type_id == TestCaseType.id))\n",
    "querywftcbug = querywftcbug.join(CrashAnalysis,Discovery.test_case_hash == CrashAnalysis.test_case_hash)\n",
    "querywftcbug = querywftcbug.filter(TestCaseType.id==2).order_by(Discovery.discovery_time)\n",
    "\n",
    "#querywftcbug = querywftcbug.all()\n",
    "#print(querywftcbug)\n",
    "#print(querywftcbug.first().keys())\n",
    "dict_value_discovery_id = [result.discovery_id  for result in querywftcbug]\n",
    "dict_value_discovery_fuzzer = [result.discovery_fuzzer  for result in querywftcbug]\n",
    "dict_value_discovery_fuzzer_name = [result.fuzzer_name  for result in querywftcbug]\n",
    "dict_value_fuzzer_type_description = [result.fuzzer_type_description  for result in querywftcbug]\n",
    "dict_value_discovery_time = [result.discovery_time  for result in querywftcbug]\n",
    "dict_value_testcase_hash = [result.testcase_hash  for result in querywftcbug]\n",
    "dict_value_testcase_type_description = [result.testcase_type_description  for result in querywftcbug]\n",
    "dict_value_crash_id = [result.crash_id  for result in querywftcbug]\n",
    "# dict_value_crash_id.sort()\n",
    "# print(dict_value_crash_id)\n",
    "dict_value_crash_type = [result.crash_type  for result in querywftcbug]\n",
    "dict_value_frames_hash = [result.frames_hash  for result in querywftcbug]\n",
    "dictwftcbug = {\"discovery_id\":dict_value_discovery_id, \"discovery_fuzzer\":dict_value_discovery_fuzzer, \"discovery_fuzzer_name\":dict_value_discovery_fuzzer_name, \"fuzzer_type_description\":dict_value_fuzzer_type_description, \"discovery_time\":dict_value_discovery_time, \"testcase_hash\":dict_value_testcase_hash, \"testcase_type_description\":dict_value_testcase_type_description,\"crash_id\":dict_value_crash_id, \"crash_type\":dict_value_crash_type, \"crash_frames_hash\":dict_value_frames_hash}\n",
    "df_wftcbug = pd.DataFrame(dictwftcbug,index=dict_value_crash_id)\n",
    "\n",
    "df_wftcbug = df_wftcbug.drop_duplicates(['discovery_fuzzer','crash_frames_hash']) #record once for special fuzzer and real bug\n",
    "df_wftcbug = df_wftcbug.drop_duplicates('crash_id')  #remove duplicate crash_id,which is added to db unreasonably\n",
    "# print(df_wftcbug)\n",
    "path_wftcbug_csv = f\"csv/fscve_crash_analysis_{benchmark}_{fc}_{expid}.csv\"\n",
    "df_wftcbug.to_csv(path_wftcbug_csv)\n"
   ],
   "metadata": {
    "collapsed": false,
    "pycharm": {
     "name": "#%%\n"
    }
   }
  },
  {
   "cell_type": "code",
   "execution_count": 10,
   "outputs": [
    {
     "name": "stdout",
     "output_type": "stream",
     "text": [
      "     discovery_time                 crash_frames_hash\n",
      "0                38  3a8103e52bd56af19a1d1f38820d109a\n",
      "1                43  c5b7f49d01383031c7e228bfb25b5149\n",
      "2                43  a12b812cb9bd64247118c3591189e3dd\n",
      "3                43  edf6719f2ac1abafe779752efd146761\n",
      "4                51  89190c1ef24ad7d3f7aae8384e9ff6f3\n",
      "..              ...                               ...\n",
      "128            1302  7b428cf025116fa1f773e8a98834bb4d\n",
      "129            1305  40b3ec3613140d6d2673f112c2ec40f6\n",
      "130            1305  26dd5bcba75a38d74bf3ade2f7047dcf\n",
      "131            1416  57532014681df0bff73335366858248e\n",
      "132            1418  389efc1ea8b55022514915dbe6fd820e\n",
      "\n",
      "[133 rows x 2 columns]\n"
     ]
    }
   ],
   "source": [
    "# when the fuzzer combination finds the real bug first\n",
    "find_bug_first_cols_to_keep = [\"crash_frames_hash\",\"discovery_time\"]\n",
    "df_find_bug_first = df_wftcbug.drop_duplicates('crash_frames_hash') #record once for special fuzzer and real bug\n",
    "df_find_bug_first=df_find_bug_first.drop(df_find_bug_first.columns.difference(find_bug_first_cols_to_keep), axis=1)\n",
    "df_find_bug_first[\"discovery_time\"] = df_find_bug_first[\"discovery_time\"] //60 #minutes\n",
    "df_find_bug_first=df_find_bug_first.reset_index(drop=True)\n",
    "print(df_find_bug_first)\n",
    "df_find_bug_first.to_csv(f\"csv/fscve_crash_analysis_bugfindfirsttime_{benchmark}_{fc}_{expid}.csv\")"
   ],
   "metadata": {
    "collapsed": false,
    "pycharm": {
     "name": "#%%\n"
    }
   }
  },
  {
   "cell_type": "code",
   "execution_count": 11,
   "outputs": [
    {
     "ename": "ModuleNotFoundError",
     "evalue": "No module named 'pyvenn'",
     "output_type": "error",
     "traceback": [
      "\u001B[1;31m---------------------------------------------------------------------------\u001B[0m",
      "\u001B[1;31mModuleNotFoundError\u001B[0m                       Traceback (most recent call last)",
      "\u001B[1;32mC:\\Users\\ADMINI~1\\AppData\\Local\\Temp/ipykernel_5368/549248897.py\u001B[0m in \u001B[0;36m<module>\u001B[1;34m\u001B[0m\n\u001B[1;32m----> 1\u001B[1;33m \u001B[1;32mfrom\u001B[0m \u001B[0mpyvenn\u001B[0m \u001B[1;32mimport\u001B[0m \u001B[0mvenn\u001B[0m\u001B[1;33m\u001B[0m\u001B[1;33m\u001B[0m\u001B[0m\n\u001B[0m\u001B[0;32m      2\u001B[0m \u001B[1;32mimport\u001B[0m \u001B[0mmatplotlib\u001B[0m\u001B[1;33m.\u001B[0m\u001B[0mpyplot\u001B[0m \u001B[1;32mas\u001B[0m \u001B[0mplt\u001B[0m\u001B[1;33m\u001B[0m\u001B[1;33m\u001B[0m\u001B[0m\n\u001B[0;32m      3\u001B[0m \u001B[1;32mimport\u001B[0m \u001B[0mseaborn\u001B[0m \u001B[1;32mas\u001B[0m \u001B[0msns\u001B[0m\u001B[1;33m\u001B[0m\u001B[1;33m\u001B[0m\u001B[0m\n\u001B[0;32m      4\u001B[0m \u001B[1;33m\u001B[0m\u001B[0m\n\u001B[0;32m      5\u001B[0m \u001B[1;31m#obal plot size setting\u001B[0m\u001B[1;33m\u001B[0m\u001B[1;33m\u001B[0m\u001B[0m\n",
      "\u001B[1;31mModuleNotFoundError\u001B[0m: No module named 'pyvenn'"
     ]
    }
   ],
   "source": [
    "from pyvenn import venn\n",
    "import matplotlib.pyplot as plt\n",
    "import seaborn as sns\n",
    "\n",
    "#obal plot size setting\n",
    "plt.rcParams['figure.figsize']=(38.4, 28.8)\n",
    "\n",
    "#visualize the history of the special fuzzer's bug findings\n",
    "array_count_by_time = []\n",
    "bugcnt = len(df_wftcbug)\n",
    "\n",
    "# ValueError: Can only compare identically-labeled Series objects\n",
    "#df_wftcbug = df_wftcbug.reset_index(drop=True)\n",
    "\n",
    "#print(df_wftcbug)\n",
    "#df_wftcbug.to_csv(\"tmpcrash.csv\")\n",
    "# print(df_wftcbug)\n",
    "# print(\"bugcnt:\",bugcnt)\n",
    "# accumulate by time and fuzzer\n",
    "for i in df_wftcbug['crash_id']:#0529\n",
    "#for i in range(0,len(df_wftcbug)):\n",
    "    # print(\"i:\",i,\"*\"*10,(df_wftcbug['discovery_time'] <= df_wftcbug.loc[i,'discovery_time']))\n",
    "    # print(len(df_wftcbug[ (df_wftcbug['discovery_time'] <= df_wftcbug.loc[i,'discovery_time']) & (df_wftcbug['discovery_fuzzer_name'] == df_wftcbug.loc[i, 'discovery_fuzzer_name']) ]))\n",
    "    tmp_time = df_wftcbug.loc[i,'discovery_time']\n",
    "    print(tmp_time)\n",
    "    array_count_by_time.append(len(df_wftcbug[ (df_wftcbug['discovery_time'] <= tmp_time) & (df_wftcbug['discovery_fuzzer_name'] == df_wftcbug.loc[i, 'discovery_fuzzer_name']) ]))\n",
    "# print(array_count_by_time)\n",
    "# print(dict_value_discovery_time)\n",
    "# print(dict_value_discovery_fuzzer_name)\n",
    "# print(\"*\"*30)\n",
    "# sampling data every ten minutes\n",
    "df_plot= pd.DataFrame({\"bug_count\":array_count_by_time, \"discovery_time\":[t//60 for t in df_wftcbug['discovery_time']], \"fuzzer\":df_wftcbug['discovery_fuzzer_name']})\n",
    "\n",
    "fuzzers = df_wftcbug['discovery_fuzzer_name'].unique()\n",
    "df_top = pd.DataFrame({\"bug_count\":[0 for fuzzer in fuzzers], \"discovery_time\":[0 for fuzzer in fuzzers], \"fuzzer\":df_wftcbug['discovery_fuzzer_name'].unique()})\n",
    "\n",
    "df_plot = pd.concat([df_top, df_plot]).reset_index(drop = True)\n",
    "\n",
    "# ValueError: Can only compare identically-labeled Series objects\n",
    "df_plot.set_index(\"discovery_time\")\n",
    "\n",
    "\n",
    "print(df_plot)\n",
    "\n",
    "# plt.figure(figsize=((df_plot.loc[df_plot[\"discovery_time\"].last_valid_index(),\"discovery_time\"]+10)/60,6))\n",
    "\n",
    "sns.set(style=\"whitegrid\")\n",
    "sns.set_palette(sns.color_palette(\"hls\", len(df_wftcbug['discovery_fuzzer_name'].unique())))\n",
    "sns.lineplot(x=\"discovery_time\", y=\"bug_count\", hue=\"fuzzer\",data=df_plot)\n",
    "sns.despine(right=True,top=True)\n",
    "\n",
    "# plt.xticks(ticks=range(0,df_plot.loc[df_plot[\"discovery_time\"].last_valid_index(),\"discovery_time\"],20),rotation = 45)\n",
    "plt.yticks(ticks=range(0,max(array_count_by_time)+1,1))\n",
    "plt.xlabel(\"Discovery Time (Minutes)\")\n",
    "plt.ylabel(\"Bug Count\")\n",
    "plt.title(\"Bug Discovery History\",fontsize='xx-large', fontweight='heavy')\n",
    "plt.savefig(f\"image/fuzzer_bug_history_{benchmark}_{fc}_{expid}.svg\")\n",
    "plt.show()\n"
   ],
   "metadata": {
    "collapsed": false,
    "pycharm": {
     "name": "#%%\n"
    }
   }
  },
  {
   "cell_type": "code",
   "execution_count": null,
   "outputs": [],
   "source": [
    "# draw the venn diagram to visualize the unique or common bug findings\n",
    "dict_bug_tag = {}\n",
    "bug_tag = 1\n",
    "\n",
    "def crash_analysis_to_bug_tag(df):\n",
    "    global dict_bug_tag,bug_tag\n",
    "    for row in df['crash_id']:\n",
    "        # print(df.loc[row, \"crash_frames_hash\"])\n",
    "        # print(dict_bug_tag.keys())\n",
    "        if df.loc[row, \"crash_frames_hash\"]  not in dict_bug_tag.keys():\n",
    "            dict_bug_tag[df.loc[row, \"crash_frames_hash\"]] = bug_tag\n",
    "            bug_tag +=1\n",
    "\n",
    "crash_analysis_to_bug_tag(df_wftcbug)\n",
    "fuzzers = df_wftcbug['discovery_fuzzer_name'].unique()\n",
    "# print(fuzzers)\n",
    "# print(dict_bug_tag)\n",
    "dict_fuzzer_to_tags = {}\n",
    "\n",
    "# get bug tags for every fuzzer\n",
    "for fuzzer in fuzzers:\n",
    "    tags = []\n",
    "    df_tmp = df_wftcbug[df_wftcbug['discovery_fuzzer_name'] == fuzzer]\n",
    "    for row in df_tmp['crash_id']:\n",
    "        tag = dict_bug_tag[df_tmp.loc[row, \"crash_frames_hash\"]]\n",
    "        if tag not in tags:\n",
    "            tags.append(tag)\n",
    "    dict_fuzzer_to_tags[fuzzer] = tags\n",
    "\n",
    "# limit fuzzer numbers to 6 for venn graphs\n",
    "if len(fuzzers)>6:\n",
    "    fuzzers=fuzzers[:6]\n",
    "\n",
    "fuzzer_count = len(fuzzers)\n",
    "#print(dict_fuzzer_to_tags)\n",
    "venn_functions = [venn.venn2,venn.venn3,venn.venn4,venn.venn5,venn.venn6]\n",
    "labels = venn.get_labels([dict_fuzzer_to_tags[fuzzer] for fuzzer in fuzzers], fill=['number', 'percent'])\n",
    "func = venn_functions[fuzzer_count-2]\n",
    "fig, ax = func(labels, names=fuzzers)\n",
    "fig.savefig(f'image/fuzzer_bug_venn_{benchmark}_{fc}_{expid}.svg', bbox_inches='tight')"
   ],
   "metadata": {
    "collapsed": false,
    "pycharm": {
     "name": "#%%\n"
    }
   }
  },
  {
   "cell_type": "code",
   "execution_count": null,
   "outputs": [],
   "source": [
    "from matplotlib.patches import Rectangle\n",
    "# function:which fuzzer finds the special bug earlist?\n",
    "# visualize when the real bug is found\n",
    "from fscve_step1_db import Discovery, Fuzzer, TestCase, FuzzerType, TestCaseType\n",
    "\n",
    "def autolabel(rects, texts):\n",
    "    __i__ = 0\n",
    "    for rect in rects:\n",
    "        height=rect.get_height()\n",
    "        plt.text(rect.get_x(), 1.05 * height, \"{}\\n{}\".format(int(height),texts[__i__]),rotation = 90)\n",
    "        __i__ += 1\n",
    "\n",
    "\n",
    "# query the time of when which fuzzer uses which testcase to find which real bug\n",
    "querywftcbug =  session.query(Discovery.discovery_id,Discovery.discovery_fuzzer,Fuzzer.fuzzer_name,FuzzerType.description.label(\"fuzzer_type_description\"),Discovery.discovery_time,TestCase.hash.label(\"testcase_hash\"),TestCaseType.description.label(\"testcase_type_description\"),CrashAnalysis.crash_id,CrashAnalysis.crash_type,CrashAnalysis.frames_hash)\n",
    "querywftcbug = querywftcbug.join((Fuzzer,Discovery.discovery_fuzzer==Fuzzer.fuzzer_id),(FuzzerType,Fuzzer.fuzzer_type_id==FuzzerType.id)).join((TestCase,Discovery.test_case_hash == TestCase.hash),(TestCaseType,TestCase.test_case_type_id == TestCaseType.id))\n",
    "querywftcbug = querywftcbug.join(CrashAnalysis,Discovery.test_case_hash == CrashAnalysis.test_case_hash)\n",
    "querywftcbug = querywftcbug.filter(TestCaseType.id==2).order_by(Discovery.discovery_time)\n",
    "\n",
    "#querywftcbug = querywftcbug.all()\n",
    "#print(querywftcbug)\n",
    "#print(querywftcbug.first().keys())\n",
    "dict_value_discovery_id = [result.discovery_id  for result in querywftcbug]\n",
    "dict_value_discovery_fuzzer = [result.discovery_fuzzer  for result in querywftcbug]\n",
    "dict_value_discovery_fuzzer_name = [result.fuzzer_name  for result in querywftcbug]\n",
    "dict_value_fuzzer_type_description = [result.fuzzer_type_description  for result in querywftcbug]\n",
    "dict_value_discovery_time = [result.discovery_time  for result in querywftcbug]\n",
    "dict_value_testcase_hash = [result.testcase_hash  for result in querywftcbug]\n",
    "dict_value_testcase_type_description = [result.testcase_type_description  for result in querywftcbug]\n",
    "dict_value_crash_id = [result.crash_id  for result in querywftcbug]\n",
    "dict_value_crash_type = [result.crash_type  for result in querywftcbug]\n",
    "dict_value_frames_hash = [result.frames_hash  for result in querywftcbug]\n",
    "dictwftcbug = {\"discovery_id\":dict_value_discovery_id, \"discovery_fuzzer\":dict_value_discovery_fuzzer, \"discovery_fuzzer_name\":dict_value_discovery_fuzzer_name, \"fuzzer_type_description\":dict_value_fuzzer_type_description, \"discovery_time\":dict_value_discovery_time, \"testcase_hash\":dict_value_testcase_hash, \"testcase_type_description\":dict_value_testcase_type_description,\"crash_id\":dict_value_crash_id, \"crash_type\":dict_value_crash_type, \"crash_frames_hash\":dict_value_frames_hash}\n",
    "df_wftcbug = pd.DataFrame(dictwftcbug,index=dict_value_crash_id)\n",
    "# df_wftcbug.set_index(\"crash_id\")\n",
    "df_wftcbug = df_wftcbug.drop_duplicates(['crash_frames_hash']) #record once for special fuzzer and real bug\n",
    "# print(df_wftcbug)\n",
    "df_plot= pd.DataFrame({\"crash_id\":[\"bug{}\".format(cid) for cid in df_wftcbug[\"crash_id\"]], \"discovery_time\":[t//60 for t in df_wftcbug['discovery_time']], \"fuzzer\":df_wftcbug['discovery_fuzzer_name']})\n",
    "print(df_plot)\n",
    "path_wftcbug_csv = f\"csv/fscve_crash_earlist_{benchmark}_{fc}_{expid}.csv\"\n",
    "\n",
    "df_plot.to_csv(path_wftcbug_csv)\n",
    "\n",
    "sns.set(style=\"whitegrid\")\n",
    "bar = sns.barplot(x=\"crash_id\", y='discovery_time',data=df_plot,yerr=0.001)\n",
    "sns.despine()\n",
    "plt.title(\"The Time to Find The Special Bug\")\n",
    "plt.ylabel(\"Discovery Time (Minutes)\")\n",
    "plt.xlabel(\"Crash Id\")\n",
    "plt.yticks(range(0,df_plot.loc[df_plot.last_valid_index(),'discovery_time']+100,50))\n",
    "plt.xticks(rotation = 45)\n",
    "hatches = ['\\\\', '+', 'x', '\\\\', '*', '-']\n",
    "for i,thisbar in enumerate(bar.patches):\n",
    "    print(thisbar)\n",
    "    # Set a different hatch for each bar\n",
    "    thisbar.set_hatch(hatches[i % len(hatches)])\n",
    "\n",
    "#to specify which fuzzer find the bug earlist\n",
    "autolabel([thisbar for i,thisbar in enumerate(bar.patches)], df_plot[\"fuzzer\"].to_list())\n",
    "print(f\"image/fuzzer_bug_earlist_{benchmark}_{fc}_{expid}.svg\")\n",
    "plt.savefig(f\"image/fuzzer_bug_earlist_{benchmark}_{fc}_{expid}.svg\")\n",
    "plt.show()"
   ],
   "metadata": {
    "collapsed": false,
    "pycharm": {
     "name": "#%%\n"
    }
   }
  }
 ],
 "metadata": {
  "kernelspec": {
   "display_name": "Python 3",
   "language": "python",
   "name": "python3"
  },
  "language_info": {
   "codemirror_mode": {
    "name": "ipython",
    "version": 2
   },
   "file_extension": ".py",
   "mimetype": "text/x-python",
   "name": "python",
   "nbconvert_exporter": "python",
   "pygments_lexer": "ipython2",
   "version": "2.7.6"
  }
 },
 "nbformat": 4,
 "nbformat_minor": 0
}