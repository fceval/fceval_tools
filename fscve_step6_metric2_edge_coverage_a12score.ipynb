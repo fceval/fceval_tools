{
 "cells": [
  {
   "cell_type": "code",
   "execution_count": 1,
   "outputs": [],
   "source": [
    "import pandas as pd\n",
    "# calculate tables of edge coverage\n",
    "expids = 10  #repeated times\n",
    "benchmarks = {\"cflow\", \"jq\", \"mp42aac\", \"nm\", \"objdump\", \"readelf\", \"libpng\", \"libxml2\", \"openssl\", \"lua\"}\n",
    "fcs = {\"fca\", \"fcb\"}"
   ],
   "metadata": {
    "collapsed": false,
    "pycharm": {
     "name": "#%%\n"
    }
   }
  },
  {
   "cell_type": "code",
   "execution_count": 2,
   "outputs": [],
   "source": [
    "def a12(lst1,lst2,rev=True):\n",
    "    \"how often is x in lst1 more than y in lst2?\"\n",
    "    more = same = 0.0\n",
    "    for x in lst1:\n",
    "        for y in lst2:\n",
    "            if   x==y : same += 1\n",
    "            elif rev     and x > y : more += 1\n",
    "            elif not rev and x < y : more += 1\n",
    "    return (more + 0.5*same)  / (len(lst1)*len(lst2))"
   ],
   "metadata": {
    "collapsed": false,
    "pycharm": {
     "name": "#%%\n"
    }
   }
  },
  {
   "cell_type": "code",
   "execution_count": 3,
   "outputs": [
    {
     "name": "stdout",
     "output_type": "stream",
     "text": [
      "openssl edge counts a12 score fca>fcb\n",
      "0.57\n",
      "************************************************************\n",
      "cflow edge counts a12 score fca>fcb\n",
      "0.885\n",
      "************************************************************\n",
      "objdump edge counts a12 score fca>fcb\n",
      "0.82\n",
      "************************************************************\n",
      "lua edge counts a12 score fca>fcb\n",
      "0.31\n",
      "************************************************************\n",
      "libpng edge counts a12 score fca>fcb\n",
      "0.875\n",
      "************************************************************\n",
      "jq edge counts a12 score fca>fcb\n",
      "0.345\n",
      "************************************************************\n",
      "readelf edge counts a12 score fca>fcb\n",
      "0.79\n",
      "************************************************************\n",
      "mp42aac edge counts a12 score fca>fcb\n",
      "0.22\n",
      "************************************************************\n",
      "libxml2 edge counts a12 score fca>fcb\n",
      "0.295\n",
      "************************************************************\n",
      "nm edge counts a12 score fca>fcb\n",
      "0.6\n",
      "************************************************************\n"
     ]
    }
   ],
   "source": [
    "import pandas as pd\n",
    "for bm in benchmarks:\n",
    "    dffca = pd.read_csv(f\"csv/fscve_edge_count_global_results_{bm}_fca.csv\")\n",
    "    list_exp = []\n",
    "    for i in range(1,expids+1):\n",
    "        list_exp.append(f\"experiment_id_{i}\")\n",
    "    lista = dffca.loc[0,list_exp].values\n",
    "    dffcb = pd.read_csv(f\"csv/fscve_edge_count_global_results_{bm}_fcb.csv\")\n",
    "    listb = dffcb.loc[0,list_exp].values\n",
    "    print(f\"{bm} edge counts a12 score fca>fcb\")\n",
    "    print(a12(lista,listb,rev=True))\n",
    "    dict_value_benchmark = [f\"{bm}\"]\n",
    "    dict_value_a12 = [f\"{a12(lista,listb,rev=True)}\"]\n",
    "\n",
    "    dictca = {\"benchmark\":dict_value_benchmark, \"a12\":dict_value_a12}\n",
    "    dfres = pd.DataFrame(dictca)\n",
    "    #print(df_unique_crashes)\n",
    "    dfres.to_csv(f\"csv/fscve_step6_metric2_edge_coverage_a12score_{bm}.csv\")\n",
    "    print(\"***\"*20)"
   ],
   "metadata": {
    "collapsed": false,
    "pycharm": {
     "name": "#%%\n"
    }
   }
  }
 ],
 "metadata": {
  "kernelspec": {
   "display_name": "Python 3",
   "language": "python",
   "name": "python3"
  },
  "language_info": {
   "codemirror_mode": {
    "name": "ipython",
    "version": 2
   },
   "file_extension": ".py",
   "mimetype": "text/x-python",
   "name": "python",
   "nbconvert_exporter": "python",
   "pygments_lexer": "ipython2",
   "version": "2.7.6"
  }
 },
 "nbformat": 4,
 "nbformat_minor": 0
}