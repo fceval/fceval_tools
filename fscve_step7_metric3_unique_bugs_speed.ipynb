{
 "cells": [
  {
   "cell_type": "code",
   "execution_count": 1,
   "outputs": [],
   "source": [
    "import pandas as pd\n",
    "# calculate tables of edge coverage\n",
    "benchmark = \"nm\"\n",
    "expids = 10  #repeated times\n",
    "benchmarks = {\"cflow\", \"jq\", \"mp42aac\", \"nm\", \"objdump\", \"readelf\", \"libpng\", \"libxml2\", \"openssl\", \"lua\"}\n",
    "fcs = {\"fca\", \"fcb\"}"
   ],
   "metadata": {
    "collapsed": false,
    "pycharm": {
     "name": "#%%\n"
    }
   }
  },
  {
   "cell_type": "code",
   "execution_count": 2,
   "outputs": [
    {
     "name": "stdout",
     "output_type": "stream",
     "text": [
      "Empty DataFrame\n",
      "Columns: [discovery_id, discovery_time, crash_frames_hash, count]\n",
      "Index: []\n",
      "**-jq_fcb-****-jq_fcb-****-jq_fcb-****-jq_fcb-****-jq_fcb-****-jq_fcb-****-jq_fcb-****-jq_fcb-****-jq_fcb-****-jq_fcb-****-jq_fcb-****-jq_fcb-****-jq_fcb-****-jq_fcb-****-jq_fcb-****-jq_fcb-****-jq_fcb-****-jq_fcb-****-jq_fcb-****-jq_fcb-**\n",
      "    discovery_id  discovery_time                 crash_frames_hash  count\n",
      "0           1046               6  5e2c472b880703887978fa5ec756aa89    0.2\n",
      "1           1273               7  5e2c472b880703887978fa5ec756aa89    0.4\n",
      "2           1198               9  b7a1968bbc1b8688d3bf445d52ef45a5    0.6\n",
      "3           1411              12  5e2c472b880703887978fa5ec756aa89    0.8\n",
      "4           1517              12  16a157362eca8f4f9697a4fd30bd8c0e    1.0\n",
      "5           1347              13  5e2c472b880703887978fa5ec756aa89    1.2\n",
      "6           1626              13  16a157362eca8f4f9697a4fd30bd8c0e    1.4\n",
      "7           1436              14  16a157362eca8f4f9697a4fd30bd8c0e    1.6\n",
      "8           1866              14  16a157362eca8f4f9697a4fd30bd8c0e    1.8\n",
      "9           1794              20  b7a1968bbc1b8688d3bf445d52ef45a5    2.0\n",
      "10          2456              23  5e2c472b880703887978fa5ec756aa89    2.2\n",
      "11          3169              37  b7a1968bbc1b8688d3bf445d52ef45a5    2.4\n",
      "12          2824              39  16a157362eca8f4f9697a4fd30bd8c0e    2.6\n",
      "13          3413              61  b7a1968bbc1b8688d3bf445d52ef45a5    2.8\n",
      "14          5176             120  b7a1968bbc1b8688d3bf445d52ef45a5    3.0\n",
      "**-jq_fca-****-jq_fca-****-jq_fca-****-jq_fca-****-jq_fca-****-jq_fca-****-jq_fca-****-jq_fca-****-jq_fca-****-jq_fca-****-jq_fca-****-jq_fca-****-jq_fca-****-jq_fca-****-jq_fca-****-jq_fca-****-jq_fca-****-jq_fca-****-jq_fca-****-jq_fca-**\n",
      "    discovery_id  discovery_time                 crash_frames_hash  count\n",
      "0           2703               6  bf39470c4385d389d7814248ff4d17c1    0.2\n",
      "1           2829               7  9c74ce5d00fb534a6644db103f1bfe0b    0.4\n",
      "2           2642               7  9c74ce5d00fb534a6644db103f1bfe0b    0.6\n",
      "3           3101              10  9c74ce5d00fb534a6644db103f1bfe0b    0.8\n",
      "4           3405              13  9c74ce5d00fb534a6644db103f1bfe0b    1.0\n",
      "5           5028              58  99fad7a3b490f7d3d7fc13b4db848e11    1.2\n",
      "6           4506              59  9c74ce5d00fb534a6644db103f1bfe0b    1.4\n",
      "7           4900              78  99fad7a3b490f7d3d7fc13b4db848e11    1.6\n",
      "8           4572              81  bf39470c4385d389d7814248ff4d17c1    1.8\n",
      "9           5549             115  bf39470c4385d389d7814248ff4d17c1    2.0\n",
      "10          6300             231  bf39470c4385d389d7814248ff4d17c1    2.2\n",
      "11          6902             401  d05f359b27234cc1572a4c4af1b79e43    2.4\n",
      "12          7158             501  5cb48614635b636e96efbb73c8add63f    2.6\n",
      "13          7138             518  99fad7a3b490f7d3d7fc13b4db848e11    2.8\n",
      "14          7576            1014  99fad7a3b490f7d3d7fc13b4db848e11    3.0\n",
      "15          8144            1311  0385fd953418b4a9a73109965ed568c1    3.2\n",
      "**-cflow_fcb-****-cflow_fcb-****-cflow_fcb-****-cflow_fcb-****-cflow_fcb-****-cflow_fcb-****-cflow_fcb-****-cflow_fcb-****-cflow_fcb-****-cflow_fcb-****-cflow_fcb-****-cflow_fcb-****-cflow_fcb-****-cflow_fcb-****-cflow_fcb-****-cflow_fcb-****-cflow_fcb-****-cflow_fcb-****-cflow_fcb-****-cflow_fcb-**\n",
      "    discovery_id  discovery_time                 crash_frames_hash  count\n",
      "0           3042               5  9c74ce5d00fb534a6644db103f1bfe0b    0.2\n",
      "1           4039              15  9c74ce5d00fb534a6644db103f1bfe0b    0.4\n",
      "2           4810              28  9c74ce5d00fb534a6644db103f1bfe0b    0.6\n",
      "3           5041              28  9c74ce5d00fb534a6644db103f1bfe0b    0.8\n",
      "4           5346              33  99fad7a3b490f7d3d7fc13b4db848e11    1.0\n",
      "5           5119              36  9c74ce5d00fb534a6644db103f1bfe0b    1.2\n",
      "6           5839              59  99fad7a3b490f7d3d7fc13b4db848e11    1.4\n",
      "7           6530             107  99fad7a3b490f7d3d7fc13b4db848e11    1.6\n",
      "8           7171             122  bf39470c4385d389d7814248ff4d17c1    1.8\n",
      "9           7913             192  0385fd953418b4a9a73109965ed568c1    2.0\n",
      "10          7372             212  bf39470c4385d389d7814248ff4d17c1    2.2\n",
      "11          8286             243  333b4b08bdbba43f4ade91fe58aa064e    2.4\n",
      "12          8941             369  bf39470c4385d389d7814248ff4d17c1    2.6\n",
      "13          8917             465  bf39470c4385d389d7814248ff4d17c1    2.8\n",
      "14         10312             626  333b4b08bdbba43f4ade91fe58aa064e    3.0\n",
      "15         10354             649  bf39470c4385d389d7814248ff4d17c1    3.2\n",
      "16         10346             786  99fad7a3b490f7d3d7fc13b4db848e11    3.4\n",
      "17          9786             861  c35e68ad11ee23588788f0dd3a2c0d73    3.6\n",
      "18         10298            1150  99fad7a3b490f7d3d7fc13b4db848e11    3.8\n",
      "19         11665            1289  097576036382d7d2b774623b1844285b    4.0\n",
      "20         10647            1308  097576036382d7d2b774623b1844285b    4.2\n",
      "**-cflow_fca-****-cflow_fca-****-cflow_fca-****-cflow_fca-****-cflow_fca-****-cflow_fca-****-cflow_fca-****-cflow_fca-****-cflow_fca-****-cflow_fca-****-cflow_fca-****-cflow_fca-****-cflow_fca-****-cflow_fca-****-cflow_fca-****-cflow_fca-****-cflow_fca-****-cflow_fca-****-cflow_fca-****-cflow_fca-**\n",
      "   discovery_id  discovery_time                 crash_frames_hash  count\n",
      "0           888              20  87ddda0ce59711829e57ff9a2ece7a5e    0.2\n",
      "1          1435              49  9419f91b38edd367d90296ecfee742e2    0.4\n",
      "2          2145             304  a1b560744ee1ea725f93e162bb5dbfb0    0.6\n",
      "3          2264             351  87ddda0ce59711829e57ff9a2ece7a5e    0.8\n",
      "4          2824             496  a1b560744ee1ea725f93e162bb5dbfb0    1.0\n",
      "5          2202             524  a1b560744ee1ea725f93e162bb5dbfb0    1.2\n",
      "6          2740             607  cf8259252433e737ae31d3e894fde531    1.4\n",
      "7          2745             607  d89e5ea71af7c234a501bbc3fbb50212    1.6\n",
      "8          2762             608  592fca583cd3464b1dd6edc98ed7cca7    1.8\n",
      "9          3105             625  a1b560744ee1ea725f93e162bb5dbfb0    2.0\n",
      "**-mp42aac_fcb-****-mp42aac_fcb-****-mp42aac_fcb-****-mp42aac_fcb-****-mp42aac_fcb-****-mp42aac_fcb-****-mp42aac_fcb-****-mp42aac_fcb-****-mp42aac_fcb-****-mp42aac_fcb-****-mp42aac_fcb-****-mp42aac_fcb-****-mp42aac_fcb-****-mp42aac_fcb-****-mp42aac_fcb-****-mp42aac_fcb-****-mp42aac_fcb-****-mp42aac_fcb-****-mp42aac_fcb-****-mp42aac_fcb-**\n",
      "  discovery_id discovery_time                 crash_frames_hash  count\n",
      "0         2672            191  3455c94f5911948817c1682bc761b386    0.2\n",
      "1         3214            229  2160b6f64ffa79a39ed40d0f57f41791    0.4\n",
      "2         3290            230  cf8259252433e737ae31d3e894fde531    0.6\n",
      "3         3373            617  a1b560744ee1ea725f93e162bb5dbfb0    0.8\n",
      "4         3513           1063  a1b560744ee1ea725f93e162bb5dbfb0    1.0\n",
      "5         5821           1144  a1b560744ee1ea725f93e162bb5dbfb0    1.2\n",
      "6         3319           1158  a1b560744ee1ea725f93e162bb5dbfb0    1.4\n",
      "7         6090           1385  f2e26da42876d7fdc72ff5e32c975ab7    1.6\n",
      "8         6119           1415  4094935f26dfd9940c6e8ef55aadaaff    1.8\n",
      "9         6127           1423  d89e5ea71af7c234a501bbc3fbb50212    2.0\n",
      "**-mp42aac_fca-****-mp42aac_fca-****-mp42aac_fca-****-mp42aac_fca-****-mp42aac_fca-****-mp42aac_fca-****-mp42aac_fca-****-mp42aac_fca-****-mp42aac_fca-****-mp42aac_fca-****-mp42aac_fca-****-mp42aac_fca-****-mp42aac_fca-****-mp42aac_fca-****-mp42aac_fca-****-mp42aac_fca-****-mp42aac_fca-****-mp42aac_fca-****-mp42aac_fca-****-mp42aac_fca-**\n"
     ]
    }
   ],
   "source": [
    "#clac the average nubmer of unique bugs discovered by one fc over time in 20 repeated experiments\n",
    "for bm in benchmarks:\n",
    "    for fc in fcs:\n",
    "        dfs = []\n",
    "        for expid in range(1,expids+1):\n",
    "            df_wftcbug_venn = pd.read_csv(f\"csv/fscve_crash_analysis_{bm}_{fc}_{expid}.csv\")\n",
    "            # df_wftcbug_venn.set_index(df_wftcbug_venn[\"crash_id\"], inplace=True)\n",
    "            find_bug_first_cols_to_keep = [\"discovery_id\", \"discovery_time\", \"crash_frames_hash\",]\n",
    "            df_bug_speed = df_wftcbug_venn.drop_duplicates(['crash_frames_hash'], keep=\"first\", ignore_index=True )  # record once for special fuzzer and real bug\n",
    "            df_bug_speed = df_bug_speed.drop(df_bug_speed.columns.difference(find_bug_first_cols_to_keep), axis=1)\n",
    "            df_bug_speed[\"discovery_time\"] =  df_bug_speed[\"discovery_time\"] // 60  # minutes\n",
    "            # print(df_bug_speed)\n",
    "            # print(\"**\"*20)\n",
    "            dfs.append(df_bug_speed)\n",
    "        df_bug_speed_bm = pd.concat(dfs, ignore_index=True).sort_values(\n",
    "            by=[\"discovery_time\"],ignore_index=True)\n",
    "        df_bug_speed_bm[\"count\"]=(df_bug_speed_bm.index+1)/expids\n",
    "        df_bug_speed_bm.to_csv(f\"csv/fscve_step7_metric3_speed_average_{bm}_{fc}.csv\")\n",
    "        print(df_bug_speed_bm)\n",
    "        print(f\"**-{bm}_{fc}-**\"*20)"
   ],
   "metadata": {
    "collapsed": false,
    "pycharm": {
     "name": "#%%\n"
    }
   }
  }
 ],
 "metadata": {
  "kernelspec": {
   "display_name": "Python 3",
   "language": "python",
   "name": "python3"
  },
  "language_info": {
   "codemirror_mode": {
    "name": "ipython",
    "version": 2
   },
   "file_extension": ".py",
   "mimetype": "text/x-python",
   "name": "python",
   "nbconvert_exporter": "python",
   "pygments_lexer": "ipython2",
   "version": "2.7.6"
  }
 },
 "nbformat": 4,
 "nbformat_minor": 0
}