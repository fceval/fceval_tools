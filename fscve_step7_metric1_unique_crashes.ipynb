{
 "cells": [
  {
   "cell_type": "code",
   "execution_count": 1,
   "outputs": [],
   "source": [
    "import pandas as pd\n",
    "# calculate tables of edge coverage\n",
    "benchmark = \"nm\"\n",
    "expids = 5  #repeated times\n",
    "benchmarks = {\"cflow\", \"jq\", \"mp42aac\"}\n",
    "fcs = {\"fca\", \"fcb\"}"
   ],
   "metadata": {
    "collapsed": false,
    "pycharm": {
     "name": "#%%\n"
    }
   }
  },
  {
   "cell_type": "code",
   "execution_count": 8,
   "outputs": [
    {
     "name": "stdout",
     "output_type": "stream",
     "text": [
      "   benchmark fuzzer_combination  experiment_id_1  experiment_id_2  \\\n",
      "0         nm                fcb               31                6   \n",
      "1         nm                fca             2683             2629   \n",
      "2    objdump                fcb                3                2   \n",
      "3    objdump                fca                3                0   \n",
      "4    readelf                fcb                0                0   \n",
      "5    readelf                fca                0                0   \n",
      "6       size                fcb                0                0   \n",
      "7       size                fca                0                0   \n",
      "8    strings                fcb                0                0   \n",
      "9    strings                fca                0                0   \n",
      "10     strip                fcb                6                9   \n",
      "11     strip                fca                6               50   \n",
      "\n",
      "    experiment_id_3  experiment_id_4  experiment_id_5   max   avg  \n",
      "0               743                7                6   743   158  \n",
      "1              2340               91             2704  2704  2089  \n",
      "2                 3                7                7     7     4  \n",
      "3                63                0               11    63    15  \n",
      "4                 0                0                0     0     0  \n",
      "5                 0                0                0     0     0  \n",
      "6                 0                0                0     0     0  \n",
      "7                 0                0                0     0     0  \n",
      "8                 0                0                0     0     0  \n",
      "9                 1                0                0     1     0  \n",
      "10                6               10               59    59    18  \n",
      "11               47                4               91    91    39  \n"
     ]
    }
   ],
   "source": [
    "#calc the final results of unique crashes for repeated experiments\n",
    "#out csv tables\n",
    "dfs = []\n",
    "for bm in benchmarks:\n",
    "    df = pd.read_csv(f\"csv/fscve_unique_crashes_results_repeated_{bm}.csv\").sort_values(by=[\"fuzzer_combination\",\"fuzzer_combination\"], ascending=[True, False])\n",
    "    dfs.append(df)\n",
    "df_unique_crashes_all = pd.concat(dfs, ignore_index=True).sort_values(by=[\"benchmark\",\"fuzzer_combination\"], ascending=[True, False]).reset_index(drop=True)\n",
    "df_unique_crashes_all.drop([\"Unnamed: 0\"], axis=1, inplace=True)\n",
    "print(df_unique_crashes_all)\n",
    "\n",
    "df_unique_crashes_all.to_csv(f\"csv/fscve_step7_metric1_unique_crashes.csv\")"
   ],
   "metadata": {
    "collapsed": false,
    "pycharm": {
     "name": "#%%\n"
    }
   }
  },
  {
   "cell_type": "code",
   "execution_count": null,
   "outputs": [],
   "source": [
    "df_unique_crashes_all_transfer = df_unique_crashes_all.T\n",
    "print(df_unique_crashes_all_transfer)\n",
    "df_unique_crashes_all_transfer.to_csv(f\"csv/fscve_step7_metric1_unique_crashes_transfer.csv\")"
   ],
   "metadata": {
    "collapsed": false,
    "pycharm": {
     "name": "#%%\n"
    }
   }
  },
  {
   "cell_type": "code",
   "execution_count": 3,
   "outputs": [
    {
     "name": "stdout",
     "output_type": "stream",
     "text": [
      "  benchmark fuzzer_combination total_unique\n",
      "0        nm                fcb         1719\n",
      "1        nm                fca        18264\n",
      "2   objdump                fcb           60\n",
      "3   objdump                fca          603\n",
      "4   strings                fca            3\n",
      "5     strip                fcb           90\n",
      "6     strip                fca          375\n"
     ]
    }
   ],
   "source": [
    "#aggregate the total unique crashes on all the benchmarks\n",
    "#f\"csv/fscve_crash_step7metric1_totalunique_{benchmark}.csv\"\n",
    "dfs_totalunique = []\n",
    "for bm in benchmarks:\n",
    "    df_totalunique = pd.read_csv(f\"csv/fscve_crash_step7metric1_totalunique_{bm}.csv\").sort_values(by=[\"fuzzer_combination\",\"fuzzer_combination\"], ascending=[True, False])\n",
    "    dfs_totalunique.append(df_totalunique)\n",
    "df_totalunique_all = pd.concat(dfs_totalunique, ignore_index=True).sort_values(by=[\"benchmark\",\"fuzzer_combination\"], ascending=[True, False]).reset_index(drop=True)\n",
    "df_totalunique_all.drop([\"Unnamed: 0\"], axis=1, inplace=True)\n",
    "print(df_totalunique_all)\n",
    "df_totalunique_all.to_csv(f\"csv/fscve_step7_metric1_totalunique_crashes.csv\")"
   ],
   "metadata": {
    "collapsed": false,
    "pycharm": {
     "name": "#%%\n"
    }
   }
  }
 ],
 "metadata": {
  "kernelspec": {
   "display_name": "Python 3",
   "language": "python",
   "name": "python3"
  },
  "language_info": {
   "codemirror_mode": {
    "name": "ipython",
    "version": 2
   },
   "file_extension": ".py",
   "mimetype": "text/x-python",
   "name": "python",
   "nbconvert_exporter": "python",
   "pygments_lexer": "ipython2",
   "version": "2.7.6"
  }
 },
 "nbformat": 4,
 "nbformat_minor": 0
}