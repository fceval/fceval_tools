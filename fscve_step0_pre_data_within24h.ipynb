{
 "cells": [
  {
   "cell_type": "code",
   "execution_count": 88,
   "outputs": [
    {
     "name": "stdout",
     "output_type": "stream",
     "text": [
      "******************************  fscve_step0_pre_data bm:nm----fc:fca---expid:1start\n"
     ]
    }
   ],
   "source": [
    "from fscve_step1_db import AnalysisState\n",
    "\n",
    "from fscve_step1_db import FscveStep1DbHelper\n",
    "dbhelper = FscveStep1DbHelper( \"nm\", \"fca\",  1, False)\n",
    "session = dbhelper.session\n",
    "expid = dbhelper.experiment_id\n",
    "fc = \"fca\"\n",
    "bm = \"nm\"\n",
    "benchmark = dbhelper.benchmark\n",
    "print(\"***\"*10,f\" fscve_step0_pre_data bm:{bm}----fc:{fc}---expid:{expid}start\")"
   ],
   "metadata": {
    "collapsed": false,
    "pycharm": {
     "name": "#%%\n"
    }
   }
  },
  {
   "cell_type": "code",
   "execution_count": 89,
   "outputs": [
    {
     "name": "stdout",
     "output_type": "stream",
     "text": [
      "Discovery(discovery_id=55167, test_case_hash=668cb1f849a506e42cbc07c2f97caaf6ae779df25022ba1c6c8c7bc029a5c57a, discovery_fuzzer=2560957982,  discovery_time=86390, is_new=1)\n"
     ]
    }
   ],
   "source": [
    "from sqlalchemy import desc\n",
    "from casefc.fscve_step1_db import Discovery\n",
    "query = session.query(Discovery).order_by(desc(Discovery.discovery_time)).first()\n",
    "print(query)"
   ],
   "metadata": {
    "collapsed": false,
    "pycharm": {
     "name": "#%%\n"
    }
   }
  },
  {
   "cell_type": "code",
   "execution_count": 90,
   "outputs": [
    {
     "name": "stdout",
     "output_type": "stream",
     "text": [
      "[]\n",
      "[]\n",
      "*******dispatch******* []\n",
      "*******AnalysisState**************AnalysisState**************AnalysisState**************AnalysisState**************AnalysisState**************AnalysisState*******\n",
      "[]\n",
      "*******AnalysisState******* []\n",
      "*****EdgeCoverageFuzzer**************EdgeCoverageFuzzer**************EdgeCoverageFuzzer**************EdgeCoverageFuzzer**************EdgeCoverageFuzzer**************EdgeCoverageFuzzer*********\n",
      "[]\n",
      "*******EdgeCoverageFuzzer******* []\n",
      "*******EdgeCoverageGlobal**************EdgeCoverageGlobal**************EdgeCoverageGlobal**************EdgeCoverageGlobal**************EdgeCoverageGlobal**************EdgeCoverageGlobal*******\n",
      "[]\n",
      "******EdgeCoverageGlobal******** []\n",
      "FuzzerEventFuzzerEventFuzzerEventFuzzerEventFuzzerEventFuzzerEvent\n",
      "[]\n",
      "*****FuzzerEvent********* []\n"
     ]
    }
   ],
   "source": [
    "import numpy as np\n",
    "from sqlalchemy import func\n",
    "from casefc.fscve_step1_db import Discovery, Dispatch, EdgeCoverageFuzzer, EdgeCoverageGlobal, FuzzerEvent\n",
    "\n",
    "query = session.query(Discovery.discovery_id).filter(Discovery.discovery_time > 86400).all()\n",
    "# print(query[0].discovery_id)\n",
    "#query all discoveries with time after 24h\n",
    "arr_discovery = [res.discovery_id for res in query]\n",
    "print(arr_discovery)\n",
    "\n",
    "#delete the records after 24h , from table analysis_states,edge_coverages_fuzzer,edge_coverages_global,fuzzer_events,dispatch\n",
    "\n",
    "\n",
    "print(session.query(Dispatch.test_case_hash).filter(Dispatch.dispatch_time > 86400).all())\n",
    "session.query(Dispatch).filter(Dispatch.dispatch_time > 86400).delete(synchronize_session=False)\n",
    "session.commit()\n",
    "print(\"*******dispatch*******\", session.query(Dispatch.test_case_hash).filter(Dispatch.dispatch_time > 86400).all())\n",
    "\n",
    "print(\"*******AnalysisState*******\"*6)\n",
    "print(session.query(AnalysisState.discovery_id).filter(AnalysisState.discovery_id.in_(arr_discovery)).all())\n",
    "session.query(AnalysisState).filter(AnalysisState.discovery_id.in_(arr_discovery)).delete(synchronize_session=False)\n",
    "session.commit()\n",
    "print(\"*******AnalysisState*******\", session.query(AnalysisState.discovery_id).filter(AnalysisState.discovery_id.in_(arr_discovery)).all())\n",
    "\n",
    "print(\"*****EdgeCoverageFuzzer*********\"*6)\n",
    "print(session.query(EdgeCoverageFuzzer).filter(EdgeCoverageFuzzer.discovery_id.in_(arr_discovery)).all())\n",
    "session.query(EdgeCoverageFuzzer).filter(EdgeCoverageFuzzer.discovery_id.in_(arr_discovery)).delete(synchronize_session=False)\n",
    "session.commit()\n",
    "print(\"*******EdgeCoverageFuzzer*******\", session.query(EdgeCoverageFuzzer.discovery_id).filter(EdgeCoverageFuzzer.discovery_id.in_(arr_discovery)).all())\n",
    "\n",
    "print(\"*******EdgeCoverageGlobal*******\"*6)\n",
    "print(session.query(EdgeCoverageGlobal).filter(EdgeCoverageGlobal.discovery_id.in_(arr_discovery)).all())\n",
    "session.query(EdgeCoverageGlobal).filter(EdgeCoverageGlobal.discovery_id.in_(arr_discovery)).delete(synchronize_session=False)\n",
    "session.commit()\n",
    "print(\"******EdgeCoverageGlobal********\", session.query(EdgeCoverageGlobal.discovery_id).filter(EdgeCoverageGlobal.discovery_id.in_(arr_discovery)).all())\n",
    "\n",
    "print(\"FuzzerEvent\"*6)\n",
    "print(session.query(FuzzerEvent).filter(FuzzerEvent.event_time > 86400).all())\n",
    "session.query(FuzzerEvent).filter(FuzzerEvent.event_time > 86400).delete(synchronize_session=False)\n",
    "session.commit()\n",
    "print(\"*****FuzzerEvent*********\", session.query(FuzzerEvent).filter(FuzzerEvent.event_time > 86400).all())\n"
   ],
   "metadata": {
    "collapsed": false,
    "pycharm": {
     "name": "#%%\n"
    }
   }
  },
  {
   "cell_type": "code",
   "execution_count": 91,
   "outputs": [
    {
     "name": "stdout",
     "output_type": "stream",
     "text": [
      "******delete crash db cords and files after 24h ********start******delete crash db cords and files after 24h ********start******delete crash db cords and files after 24h ********start\n",
      "[]\n",
      "2683\n",
      "after delete 2683\n",
      "del testcase start []\n",
      "del testcase end []\n",
      "******delete crash db records and files after 24h ********end******delete crash db records and files after 24h ********end******delete crash db records and files after 24h ********end\n",
      "******delete discoveries after 24h ********start******delete discoveries after 24h ********start******delete discoveries after 24h ********start 0\n",
      "******delete discoveries after 24h ********end******delete discoveries after 24h ********end******delete discoveries after 24h ********end 0\n"
     ]
    }
   ],
   "source": [
    "import os\n",
    "from casefc.pyutilszxy import walk_files\n",
    "from casefcenfuzzcmp.fscve_step1_db import TestCase\n",
    "\n",
    "print(\"******delete crash db cords and files after 24h ********start\"*3)\n",
    "query = session.query(Discovery.test_case_hash).filter(Discovery.discovery_time > 86400).all()\n",
    "#query all discoveries with time after 24h\n",
    "arr_test_case_hash = [res.test_case_hash for res in query]\n",
    "print(arr_test_case_hash)\n",
    "query = session.query(TestCase).filter(TestCase.hash.in_(arr_test_case_hash),TestCase.test_case_type_id == 2).all()\n",
    "array_crashes = [res.hash for res in query]\n",
    "\n",
    "#delete crash files after 24h\n",
    "crash_dir = f\"runinfosqlites/{benchmark}/{fc}/{expid}/crashes\"\n",
    "print(len(walk_files(crash_dir)))\n",
    "for crash in array_crashes:\n",
    "    path = f\"{crash_dir}/{crash}\"\n",
    "    if os.path.exists(path):  # 如果文件存在\n",
    "        # 删除文件，可使用以下两种方法。\n",
    "        os.remove(path)\n",
    "        #os.unlink(path)\n",
    "    else:\n",
    "        print('no such file:%s'%crash)  # 则返回文件不存在\n",
    "print(\"after delete\",len(walk_files(crash_dir)))\n",
    "\n",
    "#delete all testcases after 24h\n",
    "print(\"del testcase start\",session.query(TestCase).filter(TestCase.hash.in_(arr_test_case_hash)).all())\n",
    "session.query(TestCase).filter(TestCase.hash.in_(arr_test_case_hash)).delete(synchronize_session=False)\n",
    "session.commit()\n",
    "print(\"del testcase end\",session.query(TestCase).filter(TestCase.hash.in_(arr_test_case_hash)).all())\n",
    "\n",
    "print(\"******delete crash db records and files after 24h ********end\"*3)\n",
    "\n",
    "print(\"******delete discoveries after 24h ********start\"*3,len(session.query(Discovery.test_case_hash).filter(Discovery.discovery_time > 86400).all()))\n",
    "session.query(Discovery).filter(Discovery.discovery_time > 86400).delete(synchronize_session=False)\n",
    "session.commit()\n",
    "print(\"******delete discoveries after 24h ********end\"*3,len(session.query(Discovery.test_case_hash).filter(Discovery.discovery_time > 86400).all()))"
   ],
   "metadata": {
    "collapsed": false,
    "pycharm": {
     "name": "#%%\n"
    }
   }
  },
  {
   "cell_type": "code",
   "execution_count": 92,
   "outputs": [
    {
     "name": "stdout",
     "output_type": "stream",
     "text": [
      "******************************  fscve_step0_pre_data bm:nm----fc:fca---expid:1end\n"
     ]
    }
   ],
   "source": [
    "print(\"***\"*10,f\" fscve_step0_pre_data bm:{bm}----fc:{fc}---expid:{expid}end\")"
   ],
   "metadata": {
    "collapsed": false,
    "pycharm": {
     "name": "#%%\n"
    }
   }
  }
 ],
 "metadata": {
  "kernelspec": {
   "display_name": "Python 3",
   "language": "python",
   "name": "python3"
  },
  "language_info": {
   "codemirror_mode": {
    "name": "ipython",
    "version": 2
   },
   "file_extension": ".py",
   "mimetype": "text/x-python",
   "name": "python",
   "nbconvert_exporter": "python",
   "pygments_lexer": "ipython2",
   "version": "2.7.6"
  }
 },
 "nbformat": 4,
 "nbformat_minor": 0
}