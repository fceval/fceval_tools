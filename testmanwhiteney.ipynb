{
 "cells": [
  {
   "cell_type": "code",
   "execution_count": 6,
   "metadata": {
    "collapsed": true
   },
   "outputs": [
    {
     "name": "stdout",
     "output_type": "stream",
     "text": [
      "MannwhitneyuResult(statistic=94.0, pvalue=0.0010079762403767444)\n"
     ]
    }
   ],
   "source": [
    "from warnings import simplefilter\n",
    "simplefilter(action='ignore', category=FutureWarning)\n",
    "import pandas as pd\n",
    "import numpy as np\n",
    "import scipy.stats as stats\n",
    "\n",
    "nmfca=[1713,1621,1616,1216,1577,1657,1181,1195,1613,1691]\n",
    "nmfcb=[722, 778, 1245, 606,603,1090,1285,806,744,695]\n",
    "MWU=stats.mannwhitneyu(nmfca, nmfcb, alternative='two-sided')\n",
    "print(MWU)"
   ]
  },
  {
   "cell_type": "code",
   "execution_count": 7,
   "outputs": [
    {
     "name": "stdout",
     "output_type": "stream",
     "text": [
      "                      0     1        2        3        4        5     6   \\\n",
      "Unnamed: 0             0     1        2        3        4        5     6   \n",
      "benchmark             nm    nm  objdump  objdump  readelf  readelf  size   \n",
      "fuzzer_combination   fcb   fca      fcb      fca      fcb      fca   fcb   \n",
      "experiment_id_1      722  1713      635      397     1422     2935   441   \n",
      "experiment_id_2      778  1621      698      216     1659     2802   410   \n",
      "experiment_id_3     1245  1616      715      929     1477     2904   451   \n",
      "experiment_id_4      606  1216      728      264     1649     2811   462   \n",
      "experiment_id_5      603  1577      696      722     1410     2829   456   \n",
      "experiment_id_6     1090  1657      158      977     1580     2832   384   \n",
      "experiment_id_7     1285  1181      738      939     1526     2847   430   \n",
      "experiment_id_8      806  1195      565      929     1607     2824   453   \n",
      "experiment_id_9      744  1613      677      429     1601     2867   466   \n",
      "experiment_id_10     695  1691      701      229     1613     2864   462   \n",
      "max                 1285  1713      738      977     1659     2935   466   \n",
      "avg                  857  1508      631      603     1554     2851   441   \n",
      "max_increment        1.0  1.33      1.0     1.32      1.0     1.77   1.0   \n",
      "avg_increment        1.0  1.76      1.0     0.96      1.0     1.83   1.0   \n",
      "\n",
      "                      7        8        9      10     11  \n",
      "Unnamed: 0             7        8        9     10     11  \n",
      "benchmark           size  strings  strings  strip  strip  \n",
      "fuzzer_combination   fca      fcb      fca    fcb    fca  \n",
      "experiment_id_1      521      371      457    620    833  \n",
      "experiment_id_2      524      386      470    676    824  \n",
      "experiment_id_3      538      396      451    596    836  \n",
      "experiment_id_4      565      377      454    616    795  \n",
      "experiment_id_5      546      375      450    784    814  \n",
      "experiment_id_6      538      372      449    613    831  \n",
      "experiment_id_7      498      367      463    617    791  \n",
      "experiment_id_8      533      374      442    587    811  \n",
      "experiment_id_9      499      372      461    545    810  \n",
      "experiment_id_10     547      354      464    632    829  \n",
      "max                  565      396      470    784    836  \n",
      "avg                  530      374      456    628    817  \n",
      "max_increment       1.21      1.0     1.19    1.0   1.07  \n",
      "avg_increment        1.2      1.0     1.22    1.0    1.3  \n"
     ]
    }
   ],
   "source": [
    "import pandas as pd\n",
    "# calculate tables of edge coverage\n",
    "benchmark = \"nm\"\n",
    "expids = 5  #repeated times\n",
    "benchmarks = {\"nm\", \"objdump\",\"readelf\",\"size\",\"strings\",\"strip\"}\n",
    "fcs = {\"fca\", \"fcb\"}\n",
    "\n",
    "#calc the final results of global edge coverage for repeaded experiments\n",
    "#out csv tables\n",
    "\n",
    "df = pd.read_csv(f\"csv/fscve_step6_metric1_edge_coverage_global_all.csv\").sort_values(by=[\"benchmark\",\"fuzzer_combination\"], ascending=[True,False])\n",
    "df_edge_count_global_all_transfer = df.T\n",
    "print(df_edge_count_global_all_transfer)\n",
    "df_edge_count_global_all_transfer.to_csv(f\"csv/fscve_step6_metric1_edge_coverage_global_all_transfer.csv\")"
   ],
   "metadata": {
    "collapsed": false,
    "pycharm": {
     "name": "#%%\n"
    }
   }
  }
 ],
 "metadata": {
  "kernelspec": {
   "display_name": "Python 3",
   "language": "python",
   "name": "python3"
  },
  "language_info": {
   "codemirror_mode": {
    "name": "ipython",
    "version": 2
   },
   "file_extension": ".py",
   "mimetype": "text/x-python",
   "name": "python",
   "nbconvert_exporter": "python",
   "pygments_lexer": "ipython2",
   "version": "2.7.6"
  }
 },
 "nbformat": 4,
 "nbformat_minor": 0
}