{
 "cells": [
  {
   "cell_type": "code",
   "execution_count": 1,
   "outputs": [],
   "source": [
    "import pandas as pd\n",
    "# calculate tables of edge coverage\n",
    "benchmark = \"nm\"\n",
    "expids = 5 #repeated times\n",
    "benchmarks = {\"cflow\", \"jq\", \"mp42aac\"}\n",
    "fcs = {\"fca\", \"fcb\"}"
   ],
   "metadata": {
    "collapsed": false,
    "pycharm": {
     "name": "#%%\n"
    }
   }
  },
  {
   "cell_type": "code",
   "execution_count": 2,
   "outputs": [
    {
     "name": "stdout",
     "output_type": "stream",
     "text": [
      "   Unnamed: 0 benchmark fuzzer_combination  experiment_id_1  experiment_id_2  \\\n",
      "1           1   readelf                fcb             1422             1659   \n",
      "0           0   readelf                fca             2935             2802   \n",
      "\n",
      "   experiment_id_3  experiment_id_4  experiment_id_5  experiment_id_6  \\\n",
      "1             1477             1649             1410             1580   \n",
      "0             2904             2811             2829             2832   \n",
      "\n",
      "   experiment_id_7  experiment_id_8  experiment_id_9  experiment_id_10   max  \\\n",
      "1             1526             1607             1601              1613  1659   \n",
      "0             2847             2824             2867              2864  2935   \n",
      "\n",
      "    avg  max_increment  avg_increment  \n",
      "1  1554           1.00           1.00  \n",
      "0  2851           1.77           1.83  \n",
      "   Unnamed: 0 benchmark fuzzer_combination  experiment_id_1  experiment_id_2  \\\n",
      "0           0      size                fcb              441              410   \n",
      "1           1      size                fca              521              524   \n",
      "\n",
      "   experiment_id_3  experiment_id_4  experiment_id_5  experiment_id_6  \\\n",
      "0              451              462              456              384   \n",
      "1              538              565              546              538   \n",
      "\n",
      "   experiment_id_7  experiment_id_8  experiment_id_9  experiment_id_10  max  \\\n",
      "0              430              453              466               462  466   \n",
      "1              498              533              499               547  565   \n",
      "\n",
      "   avg  max_increment  avg_increment  \n",
      "0  441           1.00            1.0  \n",
      "1  530           1.21            1.2  \n",
      "   Unnamed: 0 benchmark fuzzer_combination  experiment_id_1  experiment_id_2  \\\n",
      "0           0     strip                fcb              620              676   \n",
      "1           1     strip                fca              833              824   \n",
      "\n",
      "   experiment_id_3  experiment_id_4  experiment_id_5  experiment_id_6  \\\n",
      "0              596              616              784              613   \n",
      "1              836              795              814              831   \n",
      "\n",
      "   experiment_id_7  experiment_id_8  experiment_id_9  experiment_id_10  max  \\\n",
      "0              617              587              545               632  784   \n",
      "1              791              811              810               829  836   \n",
      "\n",
      "   avg  max_increment  avg_increment  \n",
      "0  628           1.00            1.0  \n",
      "1  817           1.07            1.3  \n",
      "   Unnamed: 0 benchmark fuzzer_combination  experiment_id_1  experiment_id_2  \\\n",
      "0           0        nm                fcb              722              778   \n",
      "1           1        nm                fca             1713             1621   \n",
      "\n",
      "   experiment_id_3  experiment_id_4  experiment_id_5  experiment_id_6  \\\n",
      "0             1245              606              603             1090   \n",
      "1             1616             1216             1577             1657   \n",
      "\n",
      "   experiment_id_7  experiment_id_8  experiment_id_9  experiment_id_10   max  \\\n",
      "0             1285              806              744               695  1285   \n",
      "1             1181             1195             1613              1691  1713   \n",
      "\n",
      "    avg  max_increment  avg_increment  \n",
      "0   857           1.00           1.00  \n",
      "1  1508           1.33           1.76  \n",
      "   Unnamed: 0 benchmark fuzzer_combination  experiment_id_1  experiment_id_2  \\\n",
      "1           1   strings                fcb              371              386   \n",
      "0           0   strings                fca              457              470   \n",
      "\n",
      "   experiment_id_3  experiment_id_4  experiment_id_5  experiment_id_6  \\\n",
      "1              396              377              375              372   \n",
      "0              451              454              450              449   \n",
      "\n",
      "   experiment_id_7  experiment_id_8  experiment_id_9  experiment_id_10  max  \\\n",
      "1              367              374              372               354  396   \n",
      "0              463              442              461               464  470   \n",
      "\n",
      "   avg  max_increment  avg_increment  \n",
      "1  374           1.00           1.00  \n",
      "0  456           1.19           1.22  \n",
      "   Unnamed: 0 benchmark fuzzer_combination  experiment_id_1  experiment_id_2  \\\n",
      "0           0   objdump                fcb              635              698   \n",
      "1           1   objdump                fca              397              216   \n",
      "\n",
      "   experiment_id_3  experiment_id_4  experiment_id_5  experiment_id_6  \\\n",
      "0              715              728              696              158   \n",
      "1              929              264              722              977   \n",
      "\n",
      "   experiment_id_7  experiment_id_8  experiment_id_9  experiment_id_10  max  \\\n",
      "0              738              565              677               701  738   \n",
      "1              939              929              429               229  977   \n",
      "\n",
      "   avg  max_increment  avg_increment  \n",
      "0  631           1.00           1.00  \n",
      "1  603           1.32           0.96  \n",
      "   benchmark fuzzer_combination  experiment_id_1  experiment_id_2  \\\n",
      "0         nm                fcb              722              778   \n",
      "1         nm                fca             1713             1621   \n",
      "2    objdump                fcb              635              698   \n",
      "3    objdump                fca              397              216   \n",
      "4    readelf                fcb             1422             1659   \n",
      "5    readelf                fca             2935             2802   \n",
      "6       size                fcb              441              410   \n",
      "7       size                fca              521              524   \n",
      "8    strings                fcb              371              386   \n",
      "9    strings                fca              457              470   \n",
      "10     strip                fcb              620              676   \n",
      "11     strip                fca              833              824   \n",
      "\n",
      "    experiment_id_3  experiment_id_4  experiment_id_5  experiment_id_6  \\\n",
      "0              1245              606              603             1090   \n",
      "1              1616             1216             1577             1657   \n",
      "2               715              728              696              158   \n",
      "3               929              264              722              977   \n",
      "4              1477             1649             1410             1580   \n",
      "5              2904             2811             2829             2832   \n",
      "6               451              462              456              384   \n",
      "7               538              565              546              538   \n",
      "8               396              377              375              372   \n",
      "9               451              454              450              449   \n",
      "10              596              616              784              613   \n",
      "11              836              795              814              831   \n",
      "\n",
      "    experiment_id_7  experiment_id_8  experiment_id_9  experiment_id_10   max  \\\n",
      "0              1285              806              744               695  1285   \n",
      "1              1181             1195             1613              1691  1713   \n",
      "2               738              565              677               701   738   \n",
      "3               939              929              429               229   977   \n",
      "4              1526             1607             1601              1613  1659   \n",
      "5              2847             2824             2867              2864  2935   \n",
      "6               430              453              466               462   466   \n",
      "7               498              533              499               547   565   \n",
      "8               367              374              372               354   396   \n",
      "9               463              442              461               464   470   \n",
      "10              617              587              545               632   784   \n",
      "11              791              811              810               829   836   \n",
      "\n",
      "     avg  max_increment  avg_increment  \n",
      "0    857           1.00           1.00  \n",
      "1   1508           1.33           1.76  \n",
      "2    631           1.00           1.00  \n",
      "3    603           1.32           0.96  \n",
      "4   1554           1.00           1.00  \n",
      "5   2851           1.77           1.83  \n",
      "6    441           1.00           1.00  \n",
      "7    530           1.21           1.20  \n",
      "8    374           1.00           1.00  \n",
      "9    456           1.19           1.22  \n",
      "10   628           1.00           1.00  \n",
      "11   817           1.07           1.30  \n"
     ]
    }
   ],
   "source": [
    "#calc the final results of global edge coverage for repeaded experiments\n",
    "#out csv tables\n",
    "dfs = []\n",
    "for bm in benchmarks:\n",
    "    df = pd.read_csv(f\"csv/fscve_edge_count_global_results_repeated_{bm}.csv\").sort_values(by=[\"fuzzer_combination\"], ascending=[False])\n",
    "    # df['max_increment'] = df[\"max\"].diff().abs()\n",
    "    # df['avg_increment'] = df[\"avg\"].diff().abs()\n",
    "    df['max_increment']=df['max']/df['max'].shift(1)\n",
    "    df['max_increment'] = df['max_increment'].apply(lambda x: round(x, 2)).fillna(1.00)\n",
    "    # df['avg_increment']=(df['avg']-df['avg'].shift(1))/df['avg'].shift(1)\n",
    "    df['avg_increment']=df['avg']/df['avg'].shift(1)\n",
    "    df['avg_increment'] = df['avg_increment'].apply(lambda x: round(x, 2)).fillna(1.00)\n",
    "    print(df)\n",
    "    dfs.append(df)\n",
    "df_edge_count_global_all = pd.concat(dfs, ignore_index=True).sort_values(by=[\"benchmark\",\"fuzzer_combination\"], ascending=[True, False]).reset_index(drop=True)\n",
    "#cols_to_keep = [\"benchmark\",\"fuzzer_combination\",\"experiment_id\",\"edge_count\"]\n",
    "#df_edge_count_global_all.drop(df_edge_count_global_all.columns.difference(cols_to_keep), axis=1, inplace=True)\n",
    "df_edge_count_global_all.drop([\"Unnamed: 0\"], axis=1, inplace=True)\n",
    "print(df_edge_count_global_all)\n",
    "\n",
    "df_edge_count_global_all.to_csv(f\"csv/fscve_step6_metric1_edge_coverage_global_all.csv\")"
   ],
   "metadata": {
    "collapsed": false,
    "pycharm": {
     "name": "#%%\n"
    }
   }
  },
  {
   "cell_type": "code",
   "execution_count": 3,
   "outputs": [
    {
     "name": "stdout",
     "output_type": "stream",
     "text": [
      "                      0     1        2        3        4        5     6   \\\n",
      "benchmark             nm    nm  objdump  objdump  readelf  readelf  size   \n",
      "fuzzer_combination   fcb   fca      fcb      fca      fcb      fca   fcb   \n",
      "experiment_id_1      722  1713      635      397     1422     2935   441   \n",
      "experiment_id_2      778  1621      698      216     1659     2802   410   \n",
      "experiment_id_3     1245  1616      715      929     1477     2904   451   \n",
      "experiment_id_4      606  1216      728      264     1649     2811   462   \n",
      "experiment_id_5      603  1577      696      722     1410     2829   456   \n",
      "experiment_id_6     1090  1657      158      977     1580     2832   384   \n",
      "experiment_id_7     1285  1181      738      939     1526     2847   430   \n",
      "experiment_id_8      806  1195      565      929     1607     2824   453   \n",
      "experiment_id_9      744  1613      677      429     1601     2867   466   \n",
      "experiment_id_10     695  1691      701      229     1613     2864   462   \n",
      "max                 1285  1713      738      977     1659     2935   466   \n",
      "avg                  857  1508      631      603     1554     2851   441   \n",
      "max_increment        1.0  1.33      1.0     1.32      1.0     1.77   1.0   \n",
      "avg_increment        1.0  1.76      1.0     0.96      1.0     1.83   1.0   \n",
      "\n",
      "                      7        8        9      10     11  \n",
      "benchmark           size  strings  strings  strip  strip  \n",
      "fuzzer_combination   fca      fcb      fca    fcb    fca  \n",
      "experiment_id_1      521      371      457    620    833  \n",
      "experiment_id_2      524      386      470    676    824  \n",
      "experiment_id_3      538      396      451    596    836  \n",
      "experiment_id_4      565      377      454    616    795  \n",
      "experiment_id_5      546      375      450    784    814  \n",
      "experiment_id_6      538      372      449    613    831  \n",
      "experiment_id_7      498      367      463    617    791  \n",
      "experiment_id_8      533      374      442    587    811  \n",
      "experiment_id_9      499      372      461    545    810  \n",
      "experiment_id_10     547      354      464    632    829  \n",
      "max                  565      396      470    784    836  \n",
      "avg                  530      374      456    628    817  \n",
      "max_increment       1.21      1.0     1.19    1.0   1.07  \n",
      "avg_increment        1.2      1.0     1.22    1.0    1.3  \n"
     ]
    }
   ],
   "source": [
    "df_edge_count_global_all_transfer = df_edge_count_global_all.T\n",
    "print(df_edge_count_global_all_transfer)\n",
    "df_edge_count_global_all_transfer.to_csv(f\"csv/fscve_step6_metric1_edge_coverage_global_all_transfer.csv\")"
   ],
   "metadata": {
    "collapsed": false,
    "pycharm": {
     "name": "#%%\n"
    }
   }
  },
  {
   "cell_type": "code",
   "execution_count": 25,
   "outputs": [
    {
     "name": "stdout",
     "output_type": "stream",
     "text": [
      "   benchmark fuzzer_combination  total_unique\n",
      "0         nm                fcb          5352\n",
      "1         nm                fca          6878\n",
      "2    objdump                fcb          3263\n",
      "3    objdump                fca          3785\n",
      "4    readelf                fcb          5837\n",
      "5    readelf                fca          8010\n",
      "6       size                fcb          1996\n",
      "7       size                fca          2238\n",
      "8    strings                fcb          1591\n",
      "9    strings                fca          1874\n",
      "10     strip                fcb          3234\n",
      "11     strip                fca          3809\n"
     ]
    }
   ],
   "source": [
    "# calc the total number of unique edges\n",
    "# edge coverage global detail of one fuzzer combinations\n",
    "# dfs_totalunique = []\n",
    "# for bm in benchmarks:\n",
    "#     df_totalunique = pd.read_csv(f\"csv/fscve_edge_detail_{bm}.csv\").sort_values(by=[\"benchmark\",\"fuzzer_combination\"],ascending=[True,False])\n",
    "#     df_totalunique[\"total_unique\"] = df_totalunique[\"edge\"]\n",
    "#     df_totalunique = df_totalunique.groupby([\"benchmark\", \"fuzzer_combination\"])[[\"total_unique\"]].count().reset_index(drop=False)\n",
    "#     #print(df)\n",
    "#     dfs_totalunique.append(df_totalunique)\n",
    "# df_edge_total_unique_all = pd.concat(dfs_totalunique, ignore_index=True).sort_values(by=[\"benchmark\", \"fuzzer_combination\"],ascending=[True, False]).reset_index(drop=True)\n",
    "# print(df_edge_total_unique_all)\n",
    "# df_edge_total_unique_all.to_csv(f\"csv/fscve_step6_metric1_totalunique_allffdasf.csv\")"
   ],
   "metadata": {
    "collapsed": false,
    "pycharm": {
     "name": "#%%\n"
    }
   }
  },
  {
   "cell_type": "code",
   "execution_count": 24,
   "outputs": [
    {
     "name": "stdout",
     "output_type": "stream",
     "text": [
      "++++++++++++++++++++++++++++++++++++++++++++++++++++++++++++\n",
      "   benchmark fuzzer_combination  total_unique\n",
      "0         nm                fcb          3642\n",
      "1         nm                fca          5338\n",
      "2    objdump                fcb          2356\n",
      "3    objdump                fca          2664\n",
      "4    readelf                fcb          4887\n",
      "5    readelf                fca          7251\n",
      "6       size                fcb          1436\n",
      "7       size                fca          1671\n",
      "8    strings                fcb          1160\n",
      "9    strings                fca          1370\n",
      "10     strip                fcb          2189\n",
      "11     strip                fca          2702\n"
     ]
    }
   ],
   "source": [
    "#df_edge_total_unique.to_csv(f\"csv/fscve_step6_metric1_totalunique_{benchmark}_{fc}_all.csv\")\n",
    "print(\"+++\" * 20)\n",
    "# calc the total unique edges of a fc on special benchmark\n",
    "# for enfuzz,the old data collected didn't include edge-coverage-fuzzer db table\n",
    "# so,it needs to obtain the info from edge-coverage-global,instead of fscve_edge_detail_{benchmark}_{fc}_{expid}.csv\n",
    "dfs_total_unique=[]\n",
    "for bm in benchmarks:\n",
    "    for fc in fcs:\n",
    "        df = pd.read_csv(f\"csv/fscve_step6_metric1_totalunique_{bm}_{fc}_all.csv\")\n",
    "        dfs_total_unique.append(df)\n",
    "df_total_unique_final =  pd.concat(dfs_total_unique, ignore_index=True).sort_values(by=[\"benchmark\",\"fuzzer_combination\"], ascending=[True, False]).reset_index(drop=True)\n",
    "df_total_unique_final.drop([\"Unnamed: 0\"], axis=1, inplace=True)\n",
    "print(df_total_unique_final)\n",
    "df_total_unique_final.to_csv(f\"csv/fscve_step6_metric1_totalunique_all.csv\")"
   ],
   "metadata": {
    "collapsed": false,
    "pycharm": {
     "name": "#%%\n"
    }
   }
  },
  {
   "cell_type": "code",
   "execution_count": 22,
   "outputs": [],
   "source": [
    "def a12(lst1,lst2,rev=True):\n",
    "    \"\"\"how often is x in lst1 more than y in lst2?\"\"\"\n",
    "    more = same = 0.0\n",
    "    for x in lst1:\n",
    "        for y in lst2:\n",
    "            if   x==y : same += 1\n",
    "            elif rev     and x > y : more += 1\n",
    "            elif not rev and x < y : more += 1\n",
    "    return (more + 0.5*same)  / (len(lst1)*len(lst2))"
   ],
   "metadata": {
    "collapsed": false,
    "pycharm": {
     "name": "#%%\n"
    }
   }
  },
  {
   "cell_type": "code",
   "execution_count": 25,
   "outputs": [
    {
     "name": "stdout",
     "output_type": "stream",
     "text": [
      "readelfreadelfreadelfreadelfreadelfreadelfreadelfreadelfreadelfreadelf\n",
      "sizesizesizesizesizesizesizesizesizesize\n",
      "stripstripstripstripstripstripstripstripstripstrip\n",
      "nmnmnmnmnmnmnmnmnmnm\n",
      "stringsstringsstringsstringsstringsstringsstringsstringsstringsstrings\n",
      "objdumpobjdumpobjdumpobjdumpobjdumpobjdumpobjdumpobjdumpobjdumpobjdump\n",
      "{'readelf': 1.0, 'size': 1.0, 'strip': 1.0, 'nm': 0.94, 'strings': 1.0, 'objdump': 0.53}\n"
     ]
    }
   ],
   "source": [
    "#calc the a12 score of fca against fcb about the edge coverage\n",
    "#print(df_edge_count_global_all)\n",
    "import numpy as np\n",
    "dict_a12={}\n",
    "for bm in benchmarks:\n",
    "    print(bm*10)\n",
    "    #for every benchmark ,read the edge numbers of the repeated experiments and transfer them to list\n",
    "    listfca=np.array(df_edge_count_global_all.loc[(df_edge_count_global_all['benchmark']==bm) & (df_edge_count_global_all['fuzzer_combination']==\"fca\"),\"experiment_id_1\":f\"experiment_id_{expids}\"]).tolist()[0]\n",
    "    listfcb=np.array(df_edge_count_global_all.loc[(df_edge_count_global_all['benchmark']==bm) & (df_edge_count_global_all['fuzzer_combination']==\"fcb\"),\"experiment_id_1\":f\"experiment_id_{expids}\"]).tolist()[0]\n",
    "    dict_a12[bm]=  a12(listfca,listfcb)\n",
    "print(dict_a12)"
   ],
   "metadata": {
    "collapsed": false,
    "pycharm": {
     "name": "#%%\n"
    }
   }
  }
 ],
 "metadata": {
  "kernelspec": {
   "display_name": "Python 3",
   "language": "python",
   "name": "python3"
  },
  "language_info": {
   "codemirror_mode": {
    "name": "ipython",
    "version": 2
   },
   "file_extension": ".py",
   "mimetype": "text/x-python",
   "name": "python",
   "nbconvert_exporter": "python",
   "pygments_lexer": "ipython2",
   "version": "2.7.6"
  }
 },
 "nbformat": 4,
 "nbformat_minor": 0
}