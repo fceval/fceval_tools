{
 "cells": [
  {
   "cell_type": "code",
   "execution_count": 1,
   "outputs": [],
   "source": [
    "import pandas as pd\n",
    "# calculate tables of edge coverage\n",
    "benchmark = \"nm\"\n",
    "expids = 5  #repeated times\n",
    "benchmarks = {\"cflow\", \"jq\", \"mp42aac\"}\n",
    "fcs = {\"fca\", \"fcb\"}"
   ],
   "metadata": {
    "collapsed": false,
    "pycharm": {
     "name": "#%%\n"
    }
   }
  },
  {
   "cell_type": "code",
   "execution_count": 2,
   "outputs": [
    {
     "name": "stdout",
     "output_type": "stream",
     "text": [
      "   benchmark fuzzer_combination  max_coverage_global_smaller  first_time\n",
      "0         nm                fcb                         1285        1432\n",
      "1         nm                fca                         1285         161\n",
      "2    objdump                fcb                          738        1420\n",
      "3    objdump                fca                          738         132\n",
      "4    readelf                fcb                         1659        1439\n",
      "5    readelf                fca                         1659          49\n",
      "6       size                fcb                          466        1418\n",
      "7       size                fca                          466         337\n",
      "8    strings                fcb                          396        1423\n",
      "9    strings                fca                          396         141\n",
      "10     strip                fcb                          784        1400\n",
      "11     strip                fca                          784         752\n"
     ]
    }
   ],
   "source": [
    "#calc the final results of when the smaller of the two fuzzers'  max global edge coverage\n",
    "# on the benchmarks was achieved for repeated experiments\n",
    "#out csv tables\n",
    "dfs = []\n",
    "for bm in benchmarks:\n",
    "    df = pd.read_csv(f\"csv/fscve_edge_global_results_firsttime_{bm}.csv\").sort_values(by=[\"fuzzer_combination\"], ascending=[False])\n",
    "    # print(df)\n",
    "    dfs.append(df)\n",
    "df_edge_count_global_all = pd.concat(dfs, ignore_index=True).sort_values(by=[\"benchmark\",\"fuzzer_combination\"], ascending=[True, False]).reset_index(drop=True)\n",
    "df_edge_count_global_all.drop([\"Unnamed: 0\"], axis=1, inplace=True)\n",
    "print(df_edge_count_global_all)\n",
    "df_edge_count_global_all.to_csv(f\"csv/fscve_step6_metric2_edge_coverage_global_firsttime_all.csv\")"
   ],
   "metadata": {
    "collapsed": false,
    "pycharm": {
     "name": "#%%\n"
    }
   }
  }
 ],
 "metadata": {
  "kernelspec": {
   "display_name": "Python 3",
   "language": "python",
   "name": "python3"
  },
  "language_info": {
   "codemirror_mode": {
    "name": "ipython",
    "version": 2
   },
   "file_extension": ".py",
   "mimetype": "text/x-python",
   "name": "python",
   "nbconvert_exporter": "python",
   "pygments_lexer": "ipython2",
   "version": "2.7.6"
  }
 },
 "nbformat": 4,
 "nbformat_minor": 0
}