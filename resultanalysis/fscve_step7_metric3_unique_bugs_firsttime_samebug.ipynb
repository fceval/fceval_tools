{
 "cells": [
  {
   "cell_type": "code",
   "execution_count": 1,
   "outputs": [],
   "source": [
    "import pandas as pd\n",
    "# calculate tables of edge coverage\n",
    "benchmark = \"nm\"\n",
    "expids = 5  #repeated times\n",
    "benchmarks = {\"nm\"}\n",
    "fcs = {\"fca\", \"fcb\"}"
   ],
   "metadata": {
    "collapsed": false,
    "pycharm": {
     "name": "#%%\n"
    }
   }
  },
  {
   "cell_type": "code",
   "execution_count": 3,
   "outputs": [
    {
     "name": "stdout",
     "output_type": "stream",
     "text": [
      "282\n",
      "nm,bugca:Unnamed: 0            124\n",
      "discovery_time        124\n",
      "crash_frames_hash     124\n",
      "fuzzer_combination    124\n",
      "dtype: int64\n"
     ]
    }
   ],
   "source": [
    "for bm in benchmarks:\n",
    "    df_result_same_bugs=pd.read_csv(f\"csv/fscve_step7_metric3_samebug_{benchmark}.csv\")\n",
    "    df_result_same_bugs=df_result_same_bugs.drop_duplicates([\"crash_frames_hash\"])\n",
    "    list_same_bugs=df_result_same_bugs[\"crash_frames_hash\"].to_list()\n",
    "    print(len(list_same_bugs))\n",
    "    df_result_final_bugfindfirsttime=pd.read_csv(f\"csv/fscve_crash_analysis_bugdetail_findfirst_{benchmark}.csv\")\n",
    "    bugca = df_result_final_bugfindfirsttime[( df_result_final_bugfindfirsttime[\"crash_frames_hash\"].isin(list_same_bugs) ) & ( df_result_final_bugfindfirsttime[\"fuzzer_combination\"]==\"fca\")].count()\n",
    "    print(f\"{benchmark},bugca:{bugca}\")\n"
   ],
   "metadata": {
    "collapsed": false,
    "pycharm": {
     "name": "#%%\n"
    }
   }
  }
 ],
 "metadata": {
  "kernelspec": {
   "display_name": "Python 3",
   "language": "python",
   "name": "python3"
  },
  "language_info": {
   "codemirror_mode": {
    "name": "ipython",
    "version": 2
   },
   "file_extension": ".py",
   "mimetype": "text/x-python",
   "name": "python",
   "nbconvert_exporter": "python",
   "pygments_lexer": "ipython2",
   "version": "2.7.6"
  }
 },
 "nbformat": 4,
 "nbformat_minor": 0
}