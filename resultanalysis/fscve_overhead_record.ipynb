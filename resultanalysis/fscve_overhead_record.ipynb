{
 "cells": [
  {
   "cell_type": "code",
   "execution_count": 1,
   "outputs": [],
   "source": [
    "#execute this file after you start the experiment\n",
    "#function:monitor and record the overhead info of fuzzer container"
   ],
   "metadata": {
    "collapsed": false,
    "pycharm": {
     "name": "#%%\n"
    }
   }
  },
  {
   "cell_type": "code",
   "execution_count": 2,
   "outputs": [
    {
     "name": "stdout",
     "output_type": "stream",
     "text": [
      "[]\n"
     ]
    }
   ],
   "source": [
    "import re\n",
    "import subprocess\n",
    "#function:get all of the fuzzer containers\n",
    "#attention:use your own running environment to replace \"myruntwo\"\n",
    "def get_fuzzer_container_list():\n",
    "    containers = []\n",
    "    p = subprocess.Popen(\"docker ps -a | grep 'myruntwo' | grep -v 'framework' | grep -v 'driver'\", shell=True, stdout=subprocess.PIPE, stderr=subprocess.STDOUT)\n",
    "    for linetmp in p.stdout.readlines():\n",
    "        linetmpstr = str(linetmp, encoding = \"utf8\")\n",
    "        if \"myruntwo\" in linetmpstr:\n",
    "            container = re.findall(r\"(myruntwo_.*_\\d+)\", linetmpstr)\n",
    "            containers.append(container[0])\n",
    "    return containers\n",
    "print(get_fuzzer_container_list())"
   ],
   "metadata": {
    "collapsed": false,
    "pycharm": {
     "name": "#%%\n"
    }
   }
  },
  {
   "cell_type": "code",
   "execution_count": 3,
   "outputs": [],
   "source": [
    "def parse_kbmbgb_to_mb(str_capacity):\n",
    "    capacity = float(re.findall(r\"(\\d*.*\\d+)(kB|MiB|GiB|MB|GB|KB)\", str_capacity)[0][0])\n",
    "    if \"kB\" in str_capacity or \"KB\" in str_capacity:\n",
    "        capacity = capacity / 1000\n",
    "    elif \"GiB\" in str_capacity or \"GB\" in str_capacity:\n",
    "        capacity = capacity * 1000\n",
    "    print(capacity)\n",
    "    return capacity"
   ],
   "metadata": {
    "collapsed": false,
    "pycharm": {
     "name": "#%%\n"
    }
   }
  },
  {
   "cell_type": "code",
   "execution_count": 4,
   "outputs": [],
   "source": [
    "from onefuzzer.fscve_step1_db import OverheadRecord, session_overhead\n",
    "\n",
    "\n",
    "#info sample\n",
    "# container_str=\"470cafd45268   myruntwo_afl-0_1        101.02%   102MiB / 15.28GiB     0.65%     590kB / 112MB   48.4MB / 134MB   5\"\n",
    "def parse_and_save_container_info(container_str:str):\n",
    "    global record_time\n",
    "    container_item = re.split('[ /]+',container_str)\n",
    "    print(container_item)\n",
    "    if len(container_item)!=11:\n",
    "        print(\"error!! not able to parse the info!Please check it !\")\n",
    "        return\n",
    "    container_name = container_item[1]\n",
    "\n",
    "    cpu_usage =  float(re.findall(r\"(.+)%\", container_item[2])[0])\n",
    "    # print(cpu_usage)\n",
    "\n",
    "\n",
    "    mem_used = parse_kbmbgb_to_mb(container_item[3])\n",
    "    mem_total = parse_kbmbgb_to_mb(container_item[4])\n",
    "    mem_usage = float(re.findall(r\"(.+)%\", container_item[5])[0])\n",
    "\n",
    "    netin = parse_kbmbgb_to_mb(container_item[6])\n",
    "    netout = parse_kbmbgb_to_mb(container_item[7])\n",
    "\n",
    "    diskin = parse_kbmbgb_to_mb(container_item[8])\n",
    "    diskout = parse_kbmbgb_to_mb(container_item[9])\n",
    "\n",
    "    pids = int(container_item[10])\n",
    "\n",
    "    new_record = OverheadRecord(container_name = container_name,cpu_usage = cpu_usage,mem_used = mem_used,mem_total = mem_total,mem_usage = mem_usage,netin = netin,netout = netout,diskin = diskin,diskout = diskout,pids = pids,record_time=record_time )\n",
    "    session_overhead.add(new_record)\n",
    "    session_overhead.commit()"
   ],
   "metadata": {
    "collapsed": false,
    "pycharm": {
     "name": "#%%\n"
    }
   }
  },
  {
   "cell_type": "code",
   "execution_count": 5,
   "outputs": [],
   "source": [
    "#function:get the resource overhead of each fuzzer container nce mannually\n",
    "import subprocess\n",
    "def get_overhead_once():\n",
    "    global record_time\n",
    "    fuzzer_containers = get_fuzzer_container_list()\n",
    "    cmd = \"docker stats --no-stream \"\n",
    "    for container in fuzzer_containers:\n",
    "        cmd += container + \" \"\n",
    "    # print(cmd)\n",
    "    p = subprocess.Popen(cmd, shell=True, stdout=subprocess.PIPE, stderr=subprocess.STDOUT)\n",
    "    for line in p.stdout.readlines():\n",
    "        line_str = str(line,encoding = \"utf8\")\n",
    "        if \"CONTAINER\" in line_str and \"ID\" in line_str:\n",
    "            continue\n",
    "        parse_and_save_container_info(line_str)\n",
    "    record_time +=1\n",
    "\n",
    "# get_overhead_once()"
   ],
   "metadata": {
    "collapsed": false,
    "pycharm": {
     "name": "#%%\n"
    }
   }
  },
  {
   "cell_type": "code",
   "execution_count": 6,
   "outputs": [
    {
     "name": "stdout",
     "output_type": "stream",
     "text": [
      "['ac4cb4bcd3b8', 'sharp_ardinghelli', '0.00%', '8.23MiB', '15.28GiB', '0.05%', '0B', '0B', '8.67MB', '0B', '1\\n']\n",
      "8.23\n",
      "15280.0\n"
     ]
    },
    {
     "ename": "IndexError",
     "evalue": "list index out of range",
     "output_type": "error",
     "traceback": [
      "\u001B[0;31m---------------------------------------------------------------------------\u001B[0m",
      "\u001B[0;31mIndexError\u001B[0m                                Traceback (most recent call last)",
      "Input \u001B[0;32mIn [6]\u001B[0m, in \u001B[0;36m<cell line: 14>\u001B[0;34m()\u001B[0m\n\u001B[1;32m     19\u001B[0m record_time \u001B[38;5;241m=\u001B[39m \u001B[38;5;241m0\u001B[39m\n\u001B[1;32m     20\u001B[0m s\u001B[38;5;241m.\u001B[39menter(\u001B[38;5;241m0\u001B[39m, \u001B[38;5;241m0\u001B[39m, perform, (\u001B[38;5;241m600\u001B[39m,))  \u001B[38;5;66;03m# every 600 seconds\u001B[39;00m\n\u001B[0;32m---> 21\u001B[0m \u001B[43ms\u001B[49m\u001B[38;5;241;43m.\u001B[39;49m\u001B[43mrun\u001B[49m\u001B[43m(\u001B[49m\u001B[43m)\u001B[49m\n",
      "File \u001B[0;32m~/anaconda3/lib/python3.9/sched.py:151\u001B[0m, in \u001B[0;36mscheduler.run\u001B[0;34m(self, blocking)\u001B[0m\n\u001B[1;32m    149\u001B[0m     delayfunc(time \u001B[38;5;241m-\u001B[39m now)\n\u001B[1;32m    150\u001B[0m \u001B[38;5;28;01melse\u001B[39;00m:\n\u001B[0;32m--> 151\u001B[0m     \u001B[43maction\u001B[49m\u001B[43m(\u001B[49m\u001B[38;5;241;43m*\u001B[39;49m\u001B[43margument\u001B[49m\u001B[43m,\u001B[49m\u001B[43m \u001B[49m\u001B[38;5;241;43m*\u001B[39;49m\u001B[38;5;241;43m*\u001B[39;49m\u001B[43mkwargs\u001B[49m\u001B[43m)\u001B[49m\n\u001B[1;32m    152\u001B[0m     delayfunc(\u001B[38;5;241m0\u001B[39m)\n",
      "Input \u001B[0;32mIn [6]\u001B[0m, in \u001B[0;36mperform\u001B[0;34m(inc)\u001B[0m\n\u001B[1;32m      9\u001B[0m \u001B[38;5;28;01mdef\u001B[39;00m \u001B[38;5;21mperform\u001B[39m(inc):\n\u001B[1;32m     10\u001B[0m     s\u001B[38;5;241m.\u001B[39menter(inc, \u001B[38;5;241m0\u001B[39m, perform, (inc,))\n\u001B[0;32m---> 11\u001B[0m     get_overhead_once()\n",
      "Input \u001B[0;32mIn [5]\u001B[0m, in \u001B[0;36mget_overhead_once\u001B[0;34m()\u001B[0m\n\u001B[1;32m     13\u001B[0m     \u001B[38;5;28;01mif\u001B[39;00m \u001B[38;5;124m\"\u001B[39m\u001B[38;5;124mCONTAINER\u001B[39m\u001B[38;5;124m\"\u001B[39m \u001B[38;5;129;01min\u001B[39;00m line_str \u001B[38;5;129;01mand\u001B[39;00m \u001B[38;5;124m\"\u001B[39m\u001B[38;5;124mID\u001B[39m\u001B[38;5;124m\"\u001B[39m \u001B[38;5;129;01min\u001B[39;00m line_str:\n\u001B[1;32m     14\u001B[0m         \u001B[38;5;28;01mcontinue\u001B[39;00m\n\u001B[0;32m---> 15\u001B[0m     \u001B[43mparse_and_save_container_info\u001B[49m\u001B[43m(\u001B[49m\u001B[43mline_str\u001B[49m\u001B[43m)\u001B[49m\n\u001B[1;32m     16\u001B[0m record_time \u001B[38;5;241m+\u001B[39m\u001B[38;5;241m=\u001B[39m\u001B[38;5;241m1\u001B[39m\n",
      "Input \u001B[0;32mIn [4]\u001B[0m, in \u001B[0;36mparse_and_save_container_info\u001B[0;34m(container_str)\u001B[0m\n\u001B[1;32m     20\u001B[0m mem_total \u001B[38;5;241m=\u001B[39m parse_kbmbgb_to_mb(container_item[\u001B[38;5;241m4\u001B[39m])\n\u001B[1;32m     21\u001B[0m mem_usage \u001B[38;5;241m=\u001B[39m \u001B[38;5;28mfloat\u001B[39m(re\u001B[38;5;241m.\u001B[39mfindall(\u001B[38;5;124mr\u001B[39m\u001B[38;5;124m\"\u001B[39m\u001B[38;5;124m(.+)\u001B[39m\u001B[38;5;124m%\u001B[39m\u001B[38;5;124m\"\u001B[39m, container_item[\u001B[38;5;241m5\u001B[39m])[\u001B[38;5;241m0\u001B[39m])\n\u001B[0;32m---> 23\u001B[0m netin \u001B[38;5;241m=\u001B[39m \u001B[43mparse_kbmbgb_to_mb\u001B[49m\u001B[43m(\u001B[49m\u001B[43mcontainer_item\u001B[49m\u001B[43m[\u001B[49m\u001B[38;5;241;43m6\u001B[39;49m\u001B[43m]\u001B[49m\u001B[43m)\u001B[49m\n\u001B[1;32m     24\u001B[0m netout \u001B[38;5;241m=\u001B[39m parse_kbmbgb_to_mb(container_item[\u001B[38;5;241m7\u001B[39m])\n\u001B[1;32m     26\u001B[0m diskin \u001B[38;5;241m=\u001B[39m parse_kbmbgb_to_mb(container_item[\u001B[38;5;241m8\u001B[39m])\n",
      "Input \u001B[0;32mIn [3]\u001B[0m, in \u001B[0;36mparse_kbmbgb_to_mb\u001B[0;34m(str_capacity)\u001B[0m\n\u001B[1;32m      1\u001B[0m \u001B[38;5;28;01mdef\u001B[39;00m \u001B[38;5;21mparse_kbmbgb_to_mb\u001B[39m(str_capacity):\n\u001B[0;32m----> 2\u001B[0m     capacity \u001B[38;5;241m=\u001B[39m \u001B[38;5;28mfloat\u001B[39m(\u001B[43mre\u001B[49m\u001B[38;5;241;43m.\u001B[39;49m\u001B[43mfindall\u001B[49m\u001B[43m(\u001B[49m\u001B[38;5;124;43mr\u001B[39;49m\u001B[38;5;124;43m\"\u001B[39;49m\u001B[38;5;124;43m(\u001B[39;49m\u001B[38;5;124;43m\\\u001B[39;49m\u001B[38;5;124;43md*.*\u001B[39;49m\u001B[38;5;124;43m\\\u001B[39;49m\u001B[38;5;124;43md+)(kB|MiB|GiB|MB|GB|KB)\u001B[39;49m\u001B[38;5;124;43m\"\u001B[39;49m\u001B[43m,\u001B[49m\u001B[43m \u001B[49m\u001B[43mstr_capacity\u001B[49m\u001B[43m)\u001B[49m\u001B[43m[\u001B[49m\u001B[38;5;241;43m0\u001B[39;49m\u001B[43m]\u001B[49m[\u001B[38;5;241m0\u001B[39m])\n\u001B[1;32m      3\u001B[0m     \u001B[38;5;28;01mif\u001B[39;00m \u001B[38;5;124m\"\u001B[39m\u001B[38;5;124mkB\u001B[39m\u001B[38;5;124m\"\u001B[39m \u001B[38;5;129;01min\u001B[39;00m str_capacity \u001B[38;5;129;01mor\u001B[39;00m \u001B[38;5;124m\"\u001B[39m\u001B[38;5;124mKB\u001B[39m\u001B[38;5;124m\"\u001B[39m \u001B[38;5;129;01min\u001B[39;00m str_capacity:\n\u001B[1;32m      4\u001B[0m         capacity \u001B[38;5;241m=\u001B[39m capacity \u001B[38;5;241m/\u001B[39m \u001B[38;5;241m1000\u001B[39m\n",
      "\u001B[0;31mIndexError\u001B[0m: list index out of range"
     ]
    }
   ],
   "source": [
    "# coding:utf8\n",
    "import time\n",
    "import sched\n",
    "\n",
    "#function:get the resource overhead of each fuzzer container periodly：default 600seconds\n",
    "\n",
    "s = sched.scheduler(time.time, time.sleep)\n",
    "\n",
    "def perform(inc):\n",
    "    s.enter(inc, 0, perform, (inc,))\n",
    "    get_overhead_once()\n",
    "\n",
    "record_time = 0  #global var to record units(10minutes)\n",
    "if __name__ == \"__main__\":\n",
    "    global record_time\n",
    "    # drop table CrashAnalysis to store new data\n",
    "    session_overhead.query(OverheadRecord).delete()\n",
    "    session_overhead.commit()\n",
    "    record_time = 0\n",
    "    s.enter(0, 0, perform, (600,))  # every 600 seconds\n",
    "    s.run()"
   ],
   "metadata": {
    "collapsed": false,
    "pycharm": {
     "name": "#%%\n"
    }
   }
  }
 ],
 "metadata": {
  "kernelspec": {
   "display_name": "Python 3",
   "language": "python",
   "name": "python3"
  },
  "language_info": {
   "codemirror_mode": {
    "name": "ipython",
    "version": 2
   },
   "file_extension": ".py",
   "mimetype": "text/x-python",
   "name": "python",
   "nbconvert_exporter": "python",
   "pygments_lexer": "ipython2",
   "version": "2.7.6"
  }
 },
 "nbformat": 4,
 "nbformat_minor": 0
}