{
 "cells": [
  {
   "cell_type": "code",
   "execution_count": 1,
   "outputs": [],
   "source": [
    "import pandas as pd\n",
    "# calculate tables of edge coverage\n",
    "benchmark = \"nm\"\n",
    "expids = 5  #repeated times\n",
    "benchmarks = {\"cflow\", \"jq\", \"mp42aac\"}\n",
    "fcs = {\"fca\", \"fcb\"}"
   ],
   "metadata": {
    "collapsed": false,
    "pycharm": {
     "name": "#%%\n"
    }
   }
  },
  {
   "cell_type": "code",
   "execution_count": 2,
   "outputs": [
    {
     "name": "stdout",
     "output_type": "stream",
     "text": [
      "2\n",
      "   Unnamed: 0 fuzzer_combination  complemetary_metric benchmark\n",
      "0           0                fcb             0.400280      size\n",
      "1           1                fca             0.482525      size\n",
      "2\n",
      "   Unnamed: 0 fuzzer_combination  complemetary_metric benchmark\n",
      "0           0                fcb              0.39536   strings\n",
      "1           1                fca              0.48029   strings\n",
      "2\n",
      "   Unnamed: 0 fuzzer_combination  complemetary_metric benchmark\n",
      "0           0                fcb             0.437854   readelf\n",
      "1           1                fca             0.734113   readelf\n",
      "2\n",
      "   Unnamed: 0 fuzzer_combination  complemetary_metric benchmark\n",
      "1           1                fcb             0.299729        nm\n",
      "0           0                fca             0.503173        nm\n",
      "2\n",
      "   Unnamed: 0 fuzzer_combination  complemetary_metric benchmark\n",
      "0           0                fcb             0.349461     strip\n",
      "1           1                fca             0.443725     strip\n",
      "2\n",
      "   Unnamed: 0 fuzzer_combination  complemetary_metric benchmark\n",
      "1           1                fcb             0.372932   objdump\n",
      "0           0                fca             0.379815   objdump\n",
      "   benchmark fuzzer_combination  complemetary_metric\n",
      "0         nm                fcb                 0.30\n",
      "1         nm                fca                 0.50\n",
      "2    objdump                fcb                 0.37\n",
      "3    objdump                fca                 0.38\n",
      "4    readelf                fcb                 0.44\n",
      "5    readelf                fca                 0.73\n",
      "6       size                fcb                 0.40\n",
      "7       size                fca                 0.48\n",
      "8    strings                fcb                 0.40\n",
      "9    strings                fca                 0.48\n",
      "10     strip                fcb                 0.35\n",
      "11     strip                fca                 0.44\n"
     ]
    }
   ],
   "source": [
    "#calc the final results of when the smaller of the two fuzzers'  max global edge coverage\n",
    "# on the benchmarks was achieved for repeated experiments\n",
    "#out csv tables\n",
    "dfs = []\n",
    "for bm in benchmarks:\n",
    "    df = pd.read_csv(f\"csv/fscve_edge_results_complemetary_metric_{bm}.csv\").sort_values(by=[\"fuzzer_combination\"], ascending=[False])\n",
    "    print(df.shape[0])\n",
    "    df[\"benchmark\"] = [f\"{bm}\" for i in range(0,df.shape[0]) ]\n",
    "    print(df)\n",
    "    dfs.append(df)\n",
    "df_edge_count_global_all = pd.concat(dfs, ignore_index=True).sort_values(by=[\"benchmark\",\"fuzzer_combination\"], ascending=[True, False]).reset_index(drop=True)\n",
    "df_edge_count_global_all.drop([\"Unnamed: 0\"], axis=1, inplace=True)\n",
    "df_edge_count_global_all['complemetary_metric'] = df_edge_count_global_all['complemetary_metric'].apply(lambda x: round(x, 2))\n",
    "df_edge_count_global_all=df_edge_count_global_all[[\"benchmark\", \"fuzzer_combination\", \"complemetary_metric\"]]\n",
    "print(df_edge_count_global_all)\n",
    "df_edge_count_global_all.to_csv(f\"csv/fscve_step6_metric3_edge_results_complemetary_metric_all.csv\")"
   ],
   "metadata": {
    "collapsed": false,
    "pycharm": {
     "name": "#%%\n"
    }
   }
  }
 ],
 "metadata": {
  "kernelspec": {
   "display_name": "Python 3",
   "language": "python",
   "name": "python3"
  },
  "language_info": {
   "codemirror_mode": {
    "name": "ipython",
    "version": 2
   },
   "file_extension": ".py",
   "mimetype": "text/x-python",
   "name": "python",
   "nbconvert_exporter": "python",
   "pygments_lexer": "ipython2",
   "version": "2.7.6"
  }
 },
 "nbformat": 4,
 "nbformat_minor": 0
}