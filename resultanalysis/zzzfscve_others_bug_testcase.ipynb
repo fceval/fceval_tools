{
 "cells": [
  {
   "cell_type": "code",
   "execution_count": 3,
   "outputs": [
    {
     "name": "stdout",
     "output_type": "stream",
     "text": [
      "nm---fca-----2\n"
     ]
    }
   ],
   "source": [
    "from fscve_step1_db import AnalysisState,FscveStep1DbHelper\n",
    "dbhelper = FscveStep1DbHelper(\"nm\", \"fca\", 2, False)\n",
    "session = dbhelper.session\n",
    "expid = dbhelper.experiment_id\n",
    "benchmark = dbhelper.benchmark\n",
    "fc = dbhelper.fc\n",
    "# query = session.query(AnalysisState.analysis_id,AnalysisState.discovery_id).first()\n",
    "# print(query)\n",
    "print(f\"{benchmark}---{fc}-----{expid}\")"
   ],
   "metadata": {
    "collapsed": false,
    "pycharm": {
     "name": "#%%\n"
    }
   }
  },
  {
   "cell_type": "code",
   "execution_count": 4,
   "outputs": [],
   "source": [
    "from fscve_step1_db import Discovery, Fuzzer, TestCase, FuzzerType, TestCaseType, CrashAnalysis\n",
    "import pandas as pd\n",
    "# query the time of when which fuzzer uses which testcase to find which real bug\n",
    "querywftcbug =  session.query(Discovery.discovery_id,Discovery.discovery_fuzzer,Fuzzer.fuzzer_name,FuzzerType.description.label(\"fuzzer_type_description\"),Discovery.discovery_time,TestCase.hash.label(\"testcase_hash\"),TestCaseType.description.label(\"testcase_type_description\"),CrashAnalysis.crash_id,CrashAnalysis.crash_type,CrashAnalysis.frames_hash)\n",
    "querywftcbug = querywftcbug.join((Fuzzer,Discovery.discovery_fuzzer==Fuzzer.fuzzer_id),(FuzzerType,Fuzzer.fuzzer_type_id==FuzzerType.id)).join((TestCase,Discovery.test_case_hash == TestCase.hash),(TestCaseType,TestCase.test_case_type_id == TestCaseType.id))\n",
    "querywftcbug = querywftcbug.join(CrashAnalysis,Discovery.test_case_hash == CrashAnalysis.test_case_hash)\n",
    "querywftcbug = querywftcbug.filter(TestCaseType.id==2).order_by(Discovery.discovery_time)\n",
    "\n",
    "#querywftcbug = querywftcbug.all()\n",
    "#print(querywftcbug)\n",
    "#print(querywftcbug.first().keys())\n",
    "dict_value_discovery_id = [result.discovery_id  for result in querywftcbug]\n",
    "dict_value_discovery_fuzzer = [result.discovery_fuzzer  for result in querywftcbug]\n",
    "dict_value_discovery_fuzzer_name = [result.fuzzer_name  for result in querywftcbug]\n",
    "dict_value_fuzzer_type_description = [result.fuzzer_type_description  for result in querywftcbug]\n",
    "dict_value_discovery_time = [result.discovery_time  for result in querywftcbug]\n",
    "dict_value_testcase_hash = [result.testcase_hash  for result in querywftcbug]\n",
    "dict_value_testcase_type_description = [result.testcase_type_description  for result in querywftcbug]\n",
    "dict_value_crash_id = [result.crash_id  for result in querywftcbug]\n",
    "# dict_value_crash_id.sort()\n",
    "# print(dict_value_crash_id)\n",
    "dict_value_crash_type = [result.crash_type  for result in querywftcbug]\n",
    "dict_value_frames_hash = [result.frames_hash  for result in querywftcbug]\n",
    "dict_value_benchmark = [benchmark  for result in querywftcbug]\n",
    "dict_value_fc = [fc  for result in querywftcbug]\n",
    "dict_value_expid = [expid  for result in querywftcbug]\n",
    "dictwftcbug = {\"benchmark\":dict_value_benchmark, \"fc\":dict_value_fc, \"expid\":dict_value_expid,\"discovery_id\":dict_value_discovery_id, \"discovery_fuzzer\":dict_value_discovery_fuzzer, \"discovery_fuzzer_name\":dict_value_discovery_fuzzer_name, \"fuzzer_type_description\":dict_value_fuzzer_type_description, \"discovery_time\":dict_value_discovery_time, \"testcase_hash\":dict_value_testcase_hash, \"testcase_type_description\":dict_value_testcase_type_description,\"crash_id\":dict_value_crash_id, \"crash_type\":dict_value_crash_type, \"crash_frames_hash\":dict_value_frames_hash}\n",
    "df_wftcbug = pd.DataFrame(dictwftcbug,index=dict_value_crash_id)\n",
    "\n",
    "df_wftcbug = df_wftcbug.drop_duplicates(['crash_frames_hash']) #record once for special fuzzer and real bug\n",
    "df_wftcbug = df_wftcbug.drop_duplicates('crash_id')  #remove duplicate crash_id,which is added to db unreasonably\n",
    "cols_to_keep = [\"benchmark\",\"fc\",\"expid\",\"discovery_id\",\"testcase_hash\",\"crash_type\",\"crash_frames_hash\"]\n",
    "df_wftcbug.drop(df_wftcbug.columns.difference(cols_to_keep), axis=1, inplace=True)\n",
    "# print(df_wftcbug)\n",
    "path_wftcbug_csv = f\"csvzzzbugcase/{benchmark}_{fc}_{expid}.csv\"\n",
    "df_wftcbug.to_csv(path_wftcbug_csv)\n"
   ],
   "metadata": {
    "collapsed": false,
    "pycharm": {
     "name": "#%%\n"
    }
   }
  }
 ],
 "metadata": {
  "kernelspec": {
   "display_name": "Python 3",
   "language": "python",
   "name": "python3"
  },
  "language_info": {
   "codemirror_mode": {
    "name": "ipython",
    "version": 2
   },
   "file_extension": ".py",
   "mimetype": "text/x-python",
   "name": "python",
   "nbconvert_exporter": "python",
   "pygments_lexer": "ipython2",
   "version": "2.7.6"
  }
 },
 "nbformat": 4,
 "nbformat_minor": 0
}